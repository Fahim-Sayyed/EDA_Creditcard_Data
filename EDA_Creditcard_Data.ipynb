{
 "cells": [
  {
   "cell_type": "code",
   "execution_count": 166,
   "id": "9cc60ae9",
   "metadata": {},
   "outputs": [],
   "source": [
    "import pandas as pd\n",
    "import numpy as np\n",
    "import matplotlib.pyplot as plt\n",
    "import datetime as dt\n",
    "import seaborn as sns\n",
    "\n",
    "# set the graphs to show in the jupyter notebook\n",
    "%matplotlib inline\n"
   ]
  },
  {
   "cell_type": "code",
   "execution_count": 167,
   "id": "ef2616f5",
   "metadata": {},
   "outputs": [],
   "source": [
    "file_path = 'C:/Users/hp/Desktop/Data Analytics/Assignments/Python/Python Foundation Case Study 2 - Credit Card Case Study_A3/'\n",
    "cust_acq = pd.read_csv( file_path + 'Customer Acquisition.csv')\n",
    "repay = pd.read_csv( file_path + 'Repayment.csv')\n",
    "spend = pd.read_csv( file_path + 'Spend.csv')"
   ]
  },
  {
   "cell_type": "markdown",
   "id": "49aab6c2",
   "metadata": {},
   "source": [
    "BUSINESS PROBLEM:\n",
    "In order to effectively produce quality decisions in the modern credit card industry, knowledge \n",
    "must be gained through effective data analysis and modeling. Through the use of dynamic data\u0002driven decision-making tools and procedures, information can be gathered to successfully evaluate \n",
    "all aspects of credit card operations. PSPD Bank has banking operations in more than 50 countries \n",
    "across the globe. Mr. Jim Watson, CEO, wants to evaluate areas of bankruptcy, fraud, and \n",
    "collections, respond to customer requests for help with proactive offers and service.\n"
   ]
  },
  {
   "cell_type": "markdown",
   "id": "d8fe1b1f",
   "metadata": {},
   "source": [
    "DATA AVAILABLE -\n",
    "This book has the following sheets:\n",
    "Customer Acquisition: At the time of card issuing, company maintains the details of customers.\n",
    "Spend (Transaction data): Credit card spend for each customer\n",
    "Repayment: Credit card Payment done by customer\n",
    "\n",
    "Following are some of Mr. Watson’s questions to a Consultant (like you) to understand the \n",
    "customers spend & repayment behavior."
   ]
  },
  {
   "cell_type": "code",
   "execution_count": 168,
   "id": "1f00316f",
   "metadata": {},
   "outputs": [
    {
     "data": {
      "text/html": [
       "<div>\n",
       "<style scoped>\n",
       "    .dataframe tbody tr th:only-of-type {\n",
       "        vertical-align: middle;\n",
       "    }\n",
       "\n",
       "    .dataframe tbody tr th {\n",
       "        vertical-align: top;\n",
       "    }\n",
       "\n",
       "    .dataframe thead th {\n",
       "        text-align: right;\n",
       "    }\n",
       "</style>\n",
       "<table border=\"1\" class=\"dataframe\">\n",
       "  <thead>\n",
       "    <tr style=\"text-align: right;\">\n",
       "      <th></th>\n",
       "      <th>No</th>\n",
       "      <th>Customer</th>\n",
       "      <th>Age</th>\n",
       "      <th>City</th>\n",
       "      <th>Product</th>\n",
       "      <th>Limit</th>\n",
       "      <th>Company</th>\n",
       "      <th>Segment</th>\n",
       "    </tr>\n",
       "  </thead>\n",
       "  <tbody>\n",
       "    <tr>\n",
       "      <th>0</th>\n",
       "      <td>1</td>\n",
       "      <td>A1</td>\n",
       "      <td>76</td>\n",
       "      <td>BANGALORE</td>\n",
       "      <td>Gold</td>\n",
       "      <td>500000.0</td>\n",
       "      <td>C1</td>\n",
       "      <td>Self Employed</td>\n",
       "    </tr>\n",
       "    <tr>\n",
       "      <th>1</th>\n",
       "      <td>2</td>\n",
       "      <td>A2</td>\n",
       "      <td>71</td>\n",
       "      <td>CALCUTTA</td>\n",
       "      <td>Silver</td>\n",
       "      <td>100000.0</td>\n",
       "      <td>C2</td>\n",
       "      <td>Salaried_MNC</td>\n",
       "    </tr>\n",
       "    <tr>\n",
       "      <th>2</th>\n",
       "      <td>3</td>\n",
       "      <td>A3</td>\n",
       "      <td>34</td>\n",
       "      <td>COCHIN</td>\n",
       "      <td>Platimum</td>\n",
       "      <td>10000.0</td>\n",
       "      <td>C3</td>\n",
       "      <td>Salaried_Pvt</td>\n",
       "    </tr>\n",
       "  </tbody>\n",
       "</table>\n",
       "</div>"
      ],
      "text/plain": [
       "   No Customer  Age       City   Product     Limit Company        Segment\n",
       "0   1       A1   76  BANGALORE      Gold  500000.0      C1  Self Employed\n",
       "1   2       A2   71   CALCUTTA    Silver  100000.0      C2   Salaried_MNC\n",
       "2   3       A3   34     COCHIN  Platimum   10000.0      C3   Salaried_Pvt"
      ]
     },
     "execution_count": 168,
     "metadata": {},
     "output_type": "execute_result"
    }
   ],
   "source": [
    "cust_acq.head(3)"
   ]
  },
  {
   "cell_type": "code",
   "execution_count": 169,
   "id": "05d2bec4",
   "metadata": {},
   "outputs": [
    {
     "name": "stdout",
     "output_type": "stream",
     "text": [
      "<class 'pandas.core.frame.DataFrame'>\n",
      "RangeIndex: 100 entries, 0 to 99\n",
      "Data columns (total 8 columns):\n",
      " #   Column    Non-Null Count  Dtype  \n",
      "---  ------    --------------  -----  \n",
      " 0   No        100 non-null    int64  \n",
      " 1   Customer  100 non-null    object \n",
      " 2   Age       100 non-null    int64  \n",
      " 3   City      100 non-null    object \n",
      " 4   Product   100 non-null    object \n",
      " 5   Limit     100 non-null    float64\n",
      " 6   Company   100 non-null    object \n",
      " 7   Segment   100 non-null    object \n",
      "dtypes: float64(1), int64(2), object(5)\n",
      "memory usage: 6.4+ KB\n"
     ]
    }
   ],
   "source": [
    "cust_acq.info()"
   ]
  },
  {
   "cell_type": "code",
   "execution_count": 170,
   "id": "74d7fac0",
   "metadata": {},
   "outputs": [],
   "source": [
    "cust_acq.rename( columns = {'No': 'Sl_no'}, inplace = True )"
   ]
  },
  {
   "cell_type": "code",
   "execution_count": 171,
   "id": "904bff91",
   "metadata": {},
   "outputs": [
    {
     "data": {
      "text/plain": [
       "Sl_no       0\n",
       "Customer    0\n",
       "Age         0\n",
       "City        0\n",
       "Product     0\n",
       "Limit       0\n",
       "Company     0\n",
       "Segment     0\n",
       "dtype: int64"
      ]
     },
     "execution_count": 171,
     "metadata": {},
     "output_type": "execute_result"
    }
   ],
   "source": [
    "cust_acq.isnull().sum()"
   ]
  },
  {
   "cell_type": "code",
   "execution_count": 172,
   "id": "2a33051a",
   "metadata": {},
   "outputs": [
    {
     "data": {
      "text/html": [
       "<div>\n",
       "<style scoped>\n",
       "    .dataframe tbody tr th:only-of-type {\n",
       "        vertical-align: middle;\n",
       "    }\n",
       "\n",
       "    .dataframe tbody tr th {\n",
       "        vertical-align: top;\n",
       "    }\n",
       "\n",
       "    .dataframe thead th {\n",
       "        text-align: right;\n",
       "    }\n",
       "</style>\n",
       "<table border=\"1\" class=\"dataframe\">\n",
       "  <thead>\n",
       "    <tr style=\"text-align: right;\">\n",
       "      <th></th>\n",
       "      <th>SL No:</th>\n",
       "      <th>Customer</th>\n",
       "      <th>Month</th>\n",
       "      <th>Amount</th>\n",
       "      <th>Unnamed: 4</th>\n",
       "    </tr>\n",
       "  </thead>\n",
       "  <tbody>\n",
       "    <tr>\n",
       "      <th>0</th>\n",
       "      <td>NaN</td>\n",
       "      <td>A1</td>\n",
       "      <td>12-Jan-04</td>\n",
       "      <td>495414.75</td>\n",
       "      <td>NaN</td>\n",
       "    </tr>\n",
       "    <tr>\n",
       "      <th>1</th>\n",
       "      <td>2.0</td>\n",
       "      <td>A1</td>\n",
       "      <td>3-Jan-04</td>\n",
       "      <td>245899.02</td>\n",
       "      <td>NaN</td>\n",
       "    </tr>\n",
       "    <tr>\n",
       "      <th>2</th>\n",
       "      <td>3.0</td>\n",
       "      <td>A1</td>\n",
       "      <td>15-Jan-04</td>\n",
       "      <td>259490.06</td>\n",
       "      <td>NaN</td>\n",
       "    </tr>\n",
       "  </tbody>\n",
       "</table>\n",
       "</div>"
      ],
      "text/plain": [
       "   SL No: Customer      Month     Amount  Unnamed: 4\n",
       "0     NaN       A1  12-Jan-04  495414.75         NaN\n",
       "1     2.0       A1   3-Jan-04  245899.02         NaN\n",
       "2     3.0       A1  15-Jan-04  259490.06         NaN"
      ]
     },
     "execution_count": 172,
     "metadata": {},
     "output_type": "execute_result"
    }
   ],
   "source": [
    "repay.head(3)"
   ]
  },
  {
   "cell_type": "code",
   "execution_count": 173,
   "id": "f748d48f",
   "metadata": {},
   "outputs": [],
   "source": [
    "repay.rename( columns = {'SL No:': 'Sl_no'}, inplace = True )"
   ]
  },
  {
   "cell_type": "code",
   "execution_count": 174,
   "id": "cd44e4cc",
   "metadata": {},
   "outputs": [],
   "source": [
    "repay.loc[0,'Sl_no']=1"
   ]
  },
  {
   "cell_type": "code",
   "execution_count": 175,
   "id": "7e250782",
   "metadata": {},
   "outputs": [],
   "source": [
    "repay.drop( columns = ['Unnamed: 4'], inplace = True )"
   ]
  },
  {
   "cell_type": "code",
   "execution_count": 176,
   "id": "3454b9e0",
   "metadata": {},
   "outputs": [
    {
     "data": {
      "text/html": [
       "<div>\n",
       "<style scoped>\n",
       "    .dataframe tbody tr th:only-of-type {\n",
       "        vertical-align: middle;\n",
       "    }\n",
       "\n",
       "    .dataframe tbody tr th {\n",
       "        vertical-align: top;\n",
       "    }\n",
       "\n",
       "    .dataframe thead th {\n",
       "        text-align: right;\n",
       "    }\n",
       "</style>\n",
       "<table border=\"1\" class=\"dataframe\">\n",
       "  <thead>\n",
       "    <tr style=\"text-align: right;\">\n",
       "      <th></th>\n",
       "      <th>Sl_no</th>\n",
       "      <th>Customer</th>\n",
       "      <th>Month</th>\n",
       "      <th>Amount</th>\n",
       "    </tr>\n",
       "  </thead>\n",
       "  <tbody>\n",
       "    <tr>\n",
       "      <th>0</th>\n",
       "      <td>1.0</td>\n",
       "      <td>A1</td>\n",
       "      <td>12-Jan-04</td>\n",
       "      <td>495414.75</td>\n",
       "    </tr>\n",
       "    <tr>\n",
       "      <th>1</th>\n",
       "      <td>2.0</td>\n",
       "      <td>A1</td>\n",
       "      <td>3-Jan-04</td>\n",
       "      <td>245899.02</td>\n",
       "    </tr>\n",
       "    <tr>\n",
       "      <th>2</th>\n",
       "      <td>3.0</td>\n",
       "      <td>A1</td>\n",
       "      <td>15-Jan-04</td>\n",
       "      <td>259490.06</td>\n",
       "    </tr>\n",
       "    <tr>\n",
       "      <th>3</th>\n",
       "      <td>4.0</td>\n",
       "      <td>A1</td>\n",
       "      <td>25-Jan-04</td>\n",
       "      <td>437555.12</td>\n",
       "    </tr>\n",
       "    <tr>\n",
       "      <th>4</th>\n",
       "      <td>5.0</td>\n",
       "      <td>A1</td>\n",
       "      <td>17-Jan-05</td>\n",
       "      <td>165972.88</td>\n",
       "    </tr>\n",
       "    <tr>\n",
       "      <th>...</th>\n",
       "      <td>...</td>\n",
       "      <td>...</td>\n",
       "      <td>...</td>\n",
       "      <td>...</td>\n",
       "    </tr>\n",
       "    <tr>\n",
       "      <th>1518</th>\n",
       "      <td>NaN</td>\n",
       "      <td>NaN</td>\n",
       "      <td>NaN</td>\n",
       "      <td>NaN</td>\n",
       "    </tr>\n",
       "    <tr>\n",
       "      <th>1519</th>\n",
       "      <td>NaN</td>\n",
       "      <td>NaN</td>\n",
       "      <td>NaN</td>\n",
       "      <td>NaN</td>\n",
       "    </tr>\n",
       "    <tr>\n",
       "      <th>1520</th>\n",
       "      <td>NaN</td>\n",
       "      <td>NaN</td>\n",
       "      <td>NaN</td>\n",
       "      <td>NaN</td>\n",
       "    </tr>\n",
       "    <tr>\n",
       "      <th>1521</th>\n",
       "      <td>NaN</td>\n",
       "      <td>NaN</td>\n",
       "      <td>NaN</td>\n",
       "      <td>NaN</td>\n",
       "    </tr>\n",
       "    <tr>\n",
       "      <th>1522</th>\n",
       "      <td>NaN</td>\n",
       "      <td>NaN</td>\n",
       "      <td>NaN</td>\n",
       "      <td>NaN</td>\n",
       "    </tr>\n",
       "  </tbody>\n",
       "</table>\n",
       "<p>1523 rows × 4 columns</p>\n",
       "</div>"
      ],
      "text/plain": [
       "      Sl_no Customer      Month     Amount\n",
       "0       1.0       A1  12-Jan-04  495414.75\n",
       "1       2.0       A1   3-Jan-04  245899.02\n",
       "2       3.0       A1  15-Jan-04  259490.06\n",
       "3       4.0       A1  25-Jan-04  437555.12\n",
       "4       5.0       A1  17-Jan-05  165972.88\n",
       "...     ...      ...        ...        ...\n",
       "1518    NaN      NaN        NaN        NaN\n",
       "1519    NaN      NaN        NaN        NaN\n",
       "1520    NaN      NaN        NaN        NaN\n",
       "1521    NaN      NaN        NaN        NaN\n",
       "1522    NaN      NaN        NaN        NaN\n",
       "\n",
       "[1523 rows x 4 columns]"
      ]
     },
     "execution_count": 176,
     "metadata": {},
     "output_type": "execute_result"
    }
   ],
   "source": [
    "repay"
   ]
  },
  {
   "cell_type": "code",
   "execution_count": 177,
   "id": "a2ba73d9",
   "metadata": {},
   "outputs": [],
   "source": [
    "repay.dropna( axis = 0, inplace =True)"
   ]
  },
  {
   "cell_type": "code",
   "execution_count": 178,
   "id": "6bce5621",
   "metadata": {},
   "outputs": [],
   "source": [
    "repay.Sl_no=repay.Sl_no.astype('int64')"
   ]
  },
  {
   "cell_type": "code",
   "execution_count": 179,
   "id": "d9dc5f10",
   "metadata": {},
   "outputs": [
    {
     "data": {
      "text/plain": [
       "Sl_no       0\n",
       "Customer    0\n",
       "Month       0\n",
       "Amount      0\n",
       "dtype: int64"
      ]
     },
     "execution_count": 179,
     "metadata": {},
     "output_type": "execute_result"
    }
   ],
   "source": [
    "repay.isnull().sum()"
   ]
  },
  {
   "cell_type": "code",
   "execution_count": 180,
   "id": "05c81837",
   "metadata": {},
   "outputs": [
    {
     "name": "stdout",
     "output_type": "stream",
     "text": [
      "<class 'pandas.core.frame.DataFrame'>\n",
      "Int64Index: 1500 entries, 0 to 1499\n",
      "Data columns (total 4 columns):\n",
      " #   Column    Non-Null Count  Dtype  \n",
      "---  ------    --------------  -----  \n",
      " 0   Sl_no     1500 non-null   int64  \n",
      " 1   Customer  1500 non-null   object \n",
      " 2   Month     1500 non-null   object \n",
      " 3   Amount    1500 non-null   float64\n",
      "dtypes: float64(1), int64(1), object(2)\n",
      "memory usage: 58.6+ KB\n"
     ]
    }
   ],
   "source": [
    "repay.info()"
   ]
  },
  {
   "cell_type": "code",
   "execution_count": 181,
   "id": "ac74fbb7",
   "metadata": {},
   "outputs": [
    {
     "data": {
      "text/html": [
       "<div>\n",
       "<style scoped>\n",
       "    .dataframe tbody tr th:only-of-type {\n",
       "        vertical-align: middle;\n",
       "    }\n",
       "\n",
       "    .dataframe tbody tr th {\n",
       "        vertical-align: top;\n",
       "    }\n",
       "\n",
       "    .dataframe thead th {\n",
       "        text-align: right;\n",
       "    }\n",
       "</style>\n",
       "<table border=\"1\" class=\"dataframe\">\n",
       "  <thead>\n",
       "    <tr style=\"text-align: right;\">\n",
       "      <th></th>\n",
       "      <th>Sl No:</th>\n",
       "      <th>Customer</th>\n",
       "      <th>Month</th>\n",
       "      <th>Type</th>\n",
       "      <th>Amount</th>\n",
       "    </tr>\n",
       "  </thead>\n",
       "  <tbody>\n",
       "    <tr>\n",
       "      <th>0</th>\n",
       "      <td>1</td>\n",
       "      <td>A1</td>\n",
       "      <td>12-Jan-04</td>\n",
       "      <td>JEWELLERY</td>\n",
       "      <td>485470.80</td>\n",
       "    </tr>\n",
       "    <tr>\n",
       "      <th>1</th>\n",
       "      <td>2</td>\n",
       "      <td>A1</td>\n",
       "      <td>3-Jan-04</td>\n",
       "      <td>PETRO</td>\n",
       "      <td>410556.13</td>\n",
       "    </tr>\n",
       "    <tr>\n",
       "      <th>2</th>\n",
       "      <td>3</td>\n",
       "      <td>A1</td>\n",
       "      <td>15-Jan-04</td>\n",
       "      <td>CLOTHES</td>\n",
       "      <td>23740.46</td>\n",
       "    </tr>\n",
       "  </tbody>\n",
       "</table>\n",
       "</div>"
      ],
      "text/plain": [
       "   Sl No: Customer      Month       Type     Amount\n",
       "0       1       A1  12-Jan-04  JEWELLERY  485470.80\n",
       "1       2       A1   3-Jan-04      PETRO  410556.13\n",
       "2       3       A1  15-Jan-04    CLOTHES   23740.46"
      ]
     },
     "execution_count": 181,
     "metadata": {},
     "output_type": "execute_result"
    }
   ],
   "source": [
    "spend.head(3)"
   ]
  },
  {
   "cell_type": "code",
   "execution_count": 182,
   "id": "cf019a9a",
   "metadata": {},
   "outputs": [
    {
     "name": "stdout",
     "output_type": "stream",
     "text": [
      "<class 'pandas.core.frame.DataFrame'>\n",
      "RangeIndex: 1500 entries, 0 to 1499\n",
      "Data columns (total 5 columns):\n",
      " #   Column    Non-Null Count  Dtype  \n",
      "---  ------    --------------  -----  \n",
      " 0   Sl No:    1500 non-null   int64  \n",
      " 1   Customer  1500 non-null   object \n",
      " 2   Month     1500 non-null   object \n",
      " 3   Type      1500 non-null   object \n",
      " 4   Amount    1500 non-null   float64\n",
      "dtypes: float64(1), int64(1), object(3)\n",
      "memory usage: 58.7+ KB\n"
     ]
    }
   ],
   "source": [
    "spend.info()"
   ]
  },
  {
   "cell_type": "code",
   "execution_count": 183,
   "id": "0941bdd1",
   "metadata": {},
   "outputs": [
    {
     "data": {
      "text/plain": [
       "Sl No:      0\n",
       "Customer    0\n",
       "Month       0\n",
       "Type        0\n",
       "Amount      0\n",
       "dtype: int64"
      ]
     },
     "execution_count": 183,
     "metadata": {},
     "output_type": "execute_result"
    }
   ],
   "source": [
    "spend.isnull().sum()"
   ]
  },
  {
   "cell_type": "code",
   "execution_count": 184,
   "id": "55ef0b2a",
   "metadata": {},
   "outputs": [],
   "source": [
    "spend.rename( columns = {'Sl No:': 'Sl_no'}, inplace = True )"
   ]
  },
  {
   "cell_type": "code",
   "execution_count": 185,
   "id": "f6b6ff0a",
   "metadata": {},
   "outputs": [
    {
     "data": {
      "text/html": [
       "<div>\n",
       "<style scoped>\n",
       "    .dataframe tbody tr th:only-of-type {\n",
       "        vertical-align: middle;\n",
       "    }\n",
       "\n",
       "    .dataframe tbody tr th {\n",
       "        vertical-align: top;\n",
       "    }\n",
       "\n",
       "    .dataframe thead th {\n",
       "        text-align: right;\n",
       "    }\n",
       "</style>\n",
       "<table border=\"1\" class=\"dataframe\">\n",
       "  <thead>\n",
       "    <tr style=\"text-align: right;\">\n",
       "      <th></th>\n",
       "      <th>Sl_no</th>\n",
       "      <th>Customer</th>\n",
       "      <th>Age</th>\n",
       "      <th>City</th>\n",
       "      <th>Product</th>\n",
       "      <th>Limit</th>\n",
       "      <th>Company</th>\n",
       "      <th>Segment</th>\n",
       "    </tr>\n",
       "  </thead>\n",
       "  <tbody>\n",
       "    <tr>\n",
       "      <th>0</th>\n",
       "      <td>1</td>\n",
       "      <td>A1</td>\n",
       "      <td>76</td>\n",
       "      <td>BANGALORE</td>\n",
       "      <td>Gold</td>\n",
       "      <td>500000.0</td>\n",
       "      <td>C1</td>\n",
       "      <td>Self Employed</td>\n",
       "    </tr>\n",
       "  </tbody>\n",
       "</table>\n",
       "</div>"
      ],
      "text/plain": [
       "   Sl_no Customer  Age       City Product     Limit Company        Segment\n",
       "0      1       A1   76  BANGALORE    Gold  500000.0      C1  Self Employed"
      ]
     },
     "execution_count": 185,
     "metadata": {},
     "output_type": "execute_result"
    }
   ],
   "source": [
    "cust_acq.head(1)"
   ]
  },
  {
   "cell_type": "code",
   "execution_count": 186,
   "id": "632bfc87",
   "metadata": {},
   "outputs": [
    {
     "data": {
      "text/html": [
       "<div>\n",
       "<style scoped>\n",
       "    .dataframe tbody tr th:only-of-type {\n",
       "        vertical-align: middle;\n",
       "    }\n",
       "\n",
       "    .dataframe tbody tr th {\n",
       "        vertical-align: top;\n",
       "    }\n",
       "\n",
       "    .dataframe thead th {\n",
       "        text-align: right;\n",
       "    }\n",
       "</style>\n",
       "<table border=\"1\" class=\"dataframe\">\n",
       "  <thead>\n",
       "    <tr style=\"text-align: right;\">\n",
       "      <th></th>\n",
       "      <th>Sl_no</th>\n",
       "      <th>Customer</th>\n",
       "      <th>Month</th>\n",
       "      <th>Type</th>\n",
       "      <th>Amount</th>\n",
       "    </tr>\n",
       "  </thead>\n",
       "  <tbody>\n",
       "    <tr>\n",
       "      <th>0</th>\n",
       "      <td>1</td>\n",
       "      <td>A1</td>\n",
       "      <td>12-Jan-04</td>\n",
       "      <td>JEWELLERY</td>\n",
       "      <td>485470.80</td>\n",
       "    </tr>\n",
       "    <tr>\n",
       "      <th>1</th>\n",
       "      <td>2</td>\n",
       "      <td>A1</td>\n",
       "      <td>3-Jan-04</td>\n",
       "      <td>PETRO</td>\n",
       "      <td>410556.13</td>\n",
       "    </tr>\n",
       "    <tr>\n",
       "      <th>2</th>\n",
       "      <td>3</td>\n",
       "      <td>A1</td>\n",
       "      <td>15-Jan-04</td>\n",
       "      <td>CLOTHES</td>\n",
       "      <td>23740.46</td>\n",
       "    </tr>\n",
       "    <tr>\n",
       "      <th>3</th>\n",
       "      <td>4</td>\n",
       "      <td>A1</td>\n",
       "      <td>25-Jan-04</td>\n",
       "      <td>FOOD</td>\n",
       "      <td>484342.47</td>\n",
       "    </tr>\n",
       "    <tr>\n",
       "      <th>4</th>\n",
       "      <td>5</td>\n",
       "      <td>A1</td>\n",
       "      <td>17-Jan-05</td>\n",
       "      <td>CAMERA</td>\n",
       "      <td>369694.07</td>\n",
       "    </tr>\n",
       "  </tbody>\n",
       "</table>\n",
       "</div>"
      ],
      "text/plain": [
       "   Sl_no Customer      Month       Type     Amount\n",
       "0      1       A1  12-Jan-04  JEWELLERY  485470.80\n",
       "1      2       A1   3-Jan-04      PETRO  410556.13\n",
       "2      3       A1  15-Jan-04    CLOTHES   23740.46\n",
       "3      4       A1  25-Jan-04       FOOD  484342.47\n",
       "4      5       A1  17-Jan-05     CAMERA  369694.07"
      ]
     },
     "execution_count": 186,
     "metadata": {},
     "output_type": "execute_result"
    }
   ],
   "source": [
    "spend.head()"
   ]
  },
  {
   "cell_type": "code",
   "execution_count": 187,
   "id": "c812a068",
   "metadata": {},
   "outputs": [],
   "source": [
    "cust_sp = pd.merge( left = cust_acq, right = spend, how = 'inner', on = 'Customer')"
   ]
  },
  {
   "cell_type": "code",
   "execution_count": 188,
   "id": "4e34296f",
   "metadata": {},
   "outputs": [
    {
     "name": "stdout",
     "output_type": "stream",
     "text": [
      "<class 'pandas.core.frame.DataFrame'>\n",
      "Int64Index: 1500 entries, 0 to 1499\n",
      "Data columns (total 12 columns):\n",
      " #   Column    Non-Null Count  Dtype  \n",
      "---  ------    --------------  -----  \n",
      " 0   Sl_no_x   1500 non-null   int64  \n",
      " 1   Customer  1500 non-null   object \n",
      " 2   Age       1500 non-null   int64  \n",
      " 3   City      1500 non-null   object \n",
      " 4   Product   1500 non-null   object \n",
      " 5   Limit     1500 non-null   float64\n",
      " 6   Company   1500 non-null   object \n",
      " 7   Segment   1500 non-null   object \n",
      " 8   Sl_no_y   1500 non-null   int64  \n",
      " 9   Month     1500 non-null   object \n",
      " 10  Type      1500 non-null   object \n",
      " 11  Amount    1500 non-null   float64\n",
      "dtypes: float64(2), int64(3), object(7)\n",
      "memory usage: 152.3+ KB\n"
     ]
    }
   ],
   "source": [
    "cust_sp.info()"
   ]
  },
  {
   "cell_type": "code",
   "execution_count": 189,
   "id": "247b92d6",
   "metadata": {},
   "outputs": [
    {
     "data": {
      "text/html": [
       "<div>\n",
       "<style scoped>\n",
       "    .dataframe tbody tr th:only-of-type {\n",
       "        vertical-align: middle;\n",
       "    }\n",
       "\n",
       "    .dataframe tbody tr th {\n",
       "        vertical-align: top;\n",
       "    }\n",
       "\n",
       "    .dataframe thead th {\n",
       "        text-align: right;\n",
       "    }\n",
       "</style>\n",
       "<table border=\"1\" class=\"dataframe\">\n",
       "  <thead>\n",
       "    <tr style=\"text-align: right;\">\n",
       "      <th></th>\n",
       "      <th>Sl_no_x</th>\n",
       "      <th>Customer</th>\n",
       "      <th>Age</th>\n",
       "      <th>City</th>\n",
       "      <th>Product</th>\n",
       "      <th>Limit</th>\n",
       "      <th>Company</th>\n",
       "      <th>Segment</th>\n",
       "      <th>Sl_no_y</th>\n",
       "      <th>Month</th>\n",
       "      <th>Type</th>\n",
       "      <th>Amount</th>\n",
       "    </tr>\n",
       "  </thead>\n",
       "  <tbody>\n",
       "    <tr>\n",
       "      <th>0</th>\n",
       "      <td>1</td>\n",
       "      <td>A1</td>\n",
       "      <td>76</td>\n",
       "      <td>BANGALORE</td>\n",
       "      <td>Gold</td>\n",
       "      <td>500000.0</td>\n",
       "      <td>C1</td>\n",
       "      <td>Self Employed</td>\n",
       "      <td>1</td>\n",
       "      <td>12-Jan-04</td>\n",
       "      <td>JEWELLERY</td>\n",
       "      <td>485470.80</td>\n",
       "    </tr>\n",
       "    <tr>\n",
       "      <th>1</th>\n",
       "      <td>1</td>\n",
       "      <td>A1</td>\n",
       "      <td>76</td>\n",
       "      <td>BANGALORE</td>\n",
       "      <td>Gold</td>\n",
       "      <td>500000.0</td>\n",
       "      <td>C1</td>\n",
       "      <td>Self Employed</td>\n",
       "      <td>2</td>\n",
       "      <td>3-Jan-04</td>\n",
       "      <td>PETRO</td>\n",
       "      <td>410556.13</td>\n",
       "    </tr>\n",
       "    <tr>\n",
       "      <th>2</th>\n",
       "      <td>1</td>\n",
       "      <td>A1</td>\n",
       "      <td>76</td>\n",
       "      <td>BANGALORE</td>\n",
       "      <td>Gold</td>\n",
       "      <td>500000.0</td>\n",
       "      <td>C1</td>\n",
       "      <td>Self Employed</td>\n",
       "      <td>3</td>\n",
       "      <td>15-Jan-04</td>\n",
       "      <td>CLOTHES</td>\n",
       "      <td>23740.46</td>\n",
       "    </tr>\n",
       "    <tr>\n",
       "      <th>3</th>\n",
       "      <td>1</td>\n",
       "      <td>A1</td>\n",
       "      <td>76</td>\n",
       "      <td>BANGALORE</td>\n",
       "      <td>Gold</td>\n",
       "      <td>500000.0</td>\n",
       "      <td>C1</td>\n",
       "      <td>Self Employed</td>\n",
       "      <td>4</td>\n",
       "      <td>25-Jan-04</td>\n",
       "      <td>FOOD</td>\n",
       "      <td>484342.47</td>\n",
       "    </tr>\n",
       "    <tr>\n",
       "      <th>4</th>\n",
       "      <td>1</td>\n",
       "      <td>A1</td>\n",
       "      <td>76</td>\n",
       "      <td>BANGALORE</td>\n",
       "      <td>Gold</td>\n",
       "      <td>500000.0</td>\n",
       "      <td>C1</td>\n",
       "      <td>Self Employed</td>\n",
       "      <td>5</td>\n",
       "      <td>17-Jan-05</td>\n",
       "      <td>CAMERA</td>\n",
       "      <td>369694.07</td>\n",
       "    </tr>\n",
       "  </tbody>\n",
       "</table>\n",
       "</div>"
      ],
      "text/plain": [
       "   Sl_no_x Customer  Age       City Product     Limit Company        Segment  \\\n",
       "0        1       A1   76  BANGALORE    Gold  500000.0      C1  Self Employed   \n",
       "1        1       A1   76  BANGALORE    Gold  500000.0      C1  Self Employed   \n",
       "2        1       A1   76  BANGALORE    Gold  500000.0      C1  Self Employed   \n",
       "3        1       A1   76  BANGALORE    Gold  500000.0      C1  Self Employed   \n",
       "4        1       A1   76  BANGALORE    Gold  500000.0      C1  Self Employed   \n",
       "\n",
       "   Sl_no_y      Month       Type     Amount  \n",
       "0        1  12-Jan-04  JEWELLERY  485470.80  \n",
       "1        2   3-Jan-04      PETRO  410556.13  \n",
       "2        3  15-Jan-04    CLOTHES   23740.46  \n",
       "3        4  25-Jan-04       FOOD  484342.47  \n",
       "4        5  17-Jan-05     CAMERA  369694.07  "
      ]
     },
     "execution_count": 189,
     "metadata": {},
     "output_type": "execute_result"
    }
   ],
   "source": [
    "cust_sp.head()"
   ]
  },
  {
   "cell_type": "code",
   "execution_count": 190,
   "id": "5f9c9a3f",
   "metadata": {},
   "outputs": [],
   "source": [
    "cust_rp = pd.merge( left = cust_acq, right = repay, how = 'inner',on = 'Customer')"
   ]
  },
  {
   "cell_type": "code",
   "execution_count": 191,
   "id": "5568d6a1",
   "metadata": {},
   "outputs": [],
   "source": [
    "cust_rp.rename( columns = {'Amount': 'repay_amt','Month':'repay_date'}, inplace = True )"
   ]
  },
  {
   "cell_type": "code",
   "execution_count": 192,
   "id": "ac65062b",
   "metadata": {},
   "outputs": [],
   "source": [
    "cust_sp.rename( columns = {'Amount': 'spend_amt','Month':'spend_date'}, inplace = True )"
   ]
  },
  {
   "cell_type": "code",
   "execution_count": 193,
   "id": "7dc94b36",
   "metadata": {},
   "outputs": [],
   "source": [
    "cust_sp['spend_date'] = pd.to_datetime(cust_sp['spend_date'])"
   ]
  },
  {
   "cell_type": "code",
   "execution_count": 194,
   "id": "8a2aad0f",
   "metadata": {},
   "outputs": [],
   "source": [
    "cust_rp['repay_date'] = pd.to_datetime(cust_rp['repay_date'])"
   ]
  },
  {
   "cell_type": "code",
   "execution_count": 195,
   "id": "aa9ca447",
   "metadata": {},
   "outputs": [
    {
     "data": {
      "text/html": [
       "<div>\n",
       "<style scoped>\n",
       "    .dataframe tbody tr th:only-of-type {\n",
       "        vertical-align: middle;\n",
       "    }\n",
       "\n",
       "    .dataframe tbody tr th {\n",
       "        vertical-align: top;\n",
       "    }\n",
       "\n",
       "    .dataframe thead th {\n",
       "        text-align: right;\n",
       "    }\n",
       "</style>\n",
       "<table border=\"1\" class=\"dataframe\">\n",
       "  <thead>\n",
       "    <tr style=\"text-align: right;\">\n",
       "      <th></th>\n",
       "      <th>Sl_no_x</th>\n",
       "      <th>Customer</th>\n",
       "      <th>Age</th>\n",
       "      <th>City</th>\n",
       "      <th>Product</th>\n",
       "      <th>Limit</th>\n",
       "      <th>Company</th>\n",
       "      <th>Segment</th>\n",
       "      <th>Sl_no_y</th>\n",
       "      <th>repay_date</th>\n",
       "      <th>repay_amt</th>\n",
       "    </tr>\n",
       "  </thead>\n",
       "  <tbody>\n",
       "    <tr>\n",
       "      <th>0</th>\n",
       "      <td>1</td>\n",
       "      <td>A1</td>\n",
       "      <td>76</td>\n",
       "      <td>BANGALORE</td>\n",
       "      <td>Gold</td>\n",
       "      <td>500000.0</td>\n",
       "      <td>C1</td>\n",
       "      <td>Self Employed</td>\n",
       "      <td>1</td>\n",
       "      <td>2004-01-12</td>\n",
       "      <td>495414.75</td>\n",
       "    </tr>\n",
       "    <tr>\n",
       "      <th>1</th>\n",
       "      <td>1</td>\n",
       "      <td>A1</td>\n",
       "      <td>76</td>\n",
       "      <td>BANGALORE</td>\n",
       "      <td>Gold</td>\n",
       "      <td>500000.0</td>\n",
       "      <td>C1</td>\n",
       "      <td>Self Employed</td>\n",
       "      <td>2</td>\n",
       "      <td>2004-01-03</td>\n",
       "      <td>245899.02</td>\n",
       "    </tr>\n",
       "    <tr>\n",
       "      <th>2</th>\n",
       "      <td>1</td>\n",
       "      <td>A1</td>\n",
       "      <td>76</td>\n",
       "      <td>BANGALORE</td>\n",
       "      <td>Gold</td>\n",
       "      <td>500000.0</td>\n",
       "      <td>C1</td>\n",
       "      <td>Self Employed</td>\n",
       "      <td>3</td>\n",
       "      <td>2004-01-15</td>\n",
       "      <td>259490.06</td>\n",
       "    </tr>\n",
       "    <tr>\n",
       "      <th>3</th>\n",
       "      <td>1</td>\n",
       "      <td>A1</td>\n",
       "      <td>76</td>\n",
       "      <td>BANGALORE</td>\n",
       "      <td>Gold</td>\n",
       "      <td>500000.0</td>\n",
       "      <td>C1</td>\n",
       "      <td>Self Employed</td>\n",
       "      <td>4</td>\n",
       "      <td>2004-01-25</td>\n",
       "      <td>437555.12</td>\n",
       "    </tr>\n",
       "    <tr>\n",
       "      <th>4</th>\n",
       "      <td>1</td>\n",
       "      <td>A1</td>\n",
       "      <td>76</td>\n",
       "      <td>BANGALORE</td>\n",
       "      <td>Gold</td>\n",
       "      <td>500000.0</td>\n",
       "      <td>C1</td>\n",
       "      <td>Self Employed</td>\n",
       "      <td>5</td>\n",
       "      <td>2005-01-17</td>\n",
       "      <td>165972.88</td>\n",
       "    </tr>\n",
       "  </tbody>\n",
       "</table>\n",
       "</div>"
      ],
      "text/plain": [
       "   Sl_no_x Customer  Age       City Product     Limit Company        Segment  \\\n",
       "0        1       A1   76  BANGALORE    Gold  500000.0      C1  Self Employed   \n",
       "1        1       A1   76  BANGALORE    Gold  500000.0      C1  Self Employed   \n",
       "2        1       A1   76  BANGALORE    Gold  500000.0      C1  Self Employed   \n",
       "3        1       A1   76  BANGALORE    Gold  500000.0      C1  Self Employed   \n",
       "4        1       A1   76  BANGALORE    Gold  500000.0      C1  Self Employed   \n",
       "\n",
       "   Sl_no_y repay_date  repay_amt  \n",
       "0        1 2004-01-12  495414.75  \n",
       "1        2 2004-01-03  245899.02  \n",
       "2        3 2004-01-15  259490.06  \n",
       "3        4 2004-01-25  437555.12  \n",
       "4        5 2005-01-17  165972.88  "
      ]
     },
     "execution_count": 195,
     "metadata": {},
     "output_type": "execute_result"
    }
   ],
   "source": [
    "cust_rp.head()"
   ]
  },
  {
   "cell_type": "code",
   "execution_count": 196,
   "id": "f9c0d778",
   "metadata": {},
   "outputs": [
    {
     "data": {
      "text/html": [
       "<div>\n",
       "<style scoped>\n",
       "    .dataframe tbody tr th:only-of-type {\n",
       "        vertical-align: middle;\n",
       "    }\n",
       "\n",
       "    .dataframe tbody tr th {\n",
       "        vertical-align: top;\n",
       "    }\n",
       "\n",
       "    .dataframe thead th {\n",
       "        text-align: right;\n",
       "    }\n",
       "</style>\n",
       "<table border=\"1\" class=\"dataframe\">\n",
       "  <thead>\n",
       "    <tr style=\"text-align: right;\">\n",
       "      <th></th>\n",
       "      <th>Sl_no_x</th>\n",
       "      <th>Customer</th>\n",
       "      <th>Age</th>\n",
       "      <th>City</th>\n",
       "      <th>Product</th>\n",
       "      <th>Limit</th>\n",
       "      <th>Company</th>\n",
       "      <th>Segment</th>\n",
       "      <th>Sl_no_y</th>\n",
       "      <th>spend_date</th>\n",
       "      <th>Type</th>\n",
       "      <th>spend_amt</th>\n",
       "    </tr>\n",
       "  </thead>\n",
       "  <tbody>\n",
       "    <tr>\n",
       "      <th>0</th>\n",
       "      <td>1</td>\n",
       "      <td>A1</td>\n",
       "      <td>76</td>\n",
       "      <td>BANGALORE</td>\n",
       "      <td>Gold</td>\n",
       "      <td>500000.0</td>\n",
       "      <td>C1</td>\n",
       "      <td>Self Employed</td>\n",
       "      <td>1</td>\n",
       "      <td>2004-01-12</td>\n",
       "      <td>JEWELLERY</td>\n",
       "      <td>485470.80</td>\n",
       "    </tr>\n",
       "    <tr>\n",
       "      <th>1</th>\n",
       "      <td>1</td>\n",
       "      <td>A1</td>\n",
       "      <td>76</td>\n",
       "      <td>BANGALORE</td>\n",
       "      <td>Gold</td>\n",
       "      <td>500000.0</td>\n",
       "      <td>C1</td>\n",
       "      <td>Self Employed</td>\n",
       "      <td>2</td>\n",
       "      <td>2004-01-03</td>\n",
       "      <td>PETRO</td>\n",
       "      <td>410556.13</td>\n",
       "    </tr>\n",
       "    <tr>\n",
       "      <th>2</th>\n",
       "      <td>1</td>\n",
       "      <td>A1</td>\n",
       "      <td>76</td>\n",
       "      <td>BANGALORE</td>\n",
       "      <td>Gold</td>\n",
       "      <td>500000.0</td>\n",
       "      <td>C1</td>\n",
       "      <td>Self Employed</td>\n",
       "      <td>3</td>\n",
       "      <td>2004-01-15</td>\n",
       "      <td>CLOTHES</td>\n",
       "      <td>23740.46</td>\n",
       "    </tr>\n",
       "    <tr>\n",
       "      <th>3</th>\n",
       "      <td>1</td>\n",
       "      <td>A1</td>\n",
       "      <td>76</td>\n",
       "      <td>BANGALORE</td>\n",
       "      <td>Gold</td>\n",
       "      <td>500000.0</td>\n",
       "      <td>C1</td>\n",
       "      <td>Self Employed</td>\n",
       "      <td>4</td>\n",
       "      <td>2004-01-25</td>\n",
       "      <td>FOOD</td>\n",
       "      <td>484342.47</td>\n",
       "    </tr>\n",
       "    <tr>\n",
       "      <th>4</th>\n",
       "      <td>1</td>\n",
       "      <td>A1</td>\n",
       "      <td>76</td>\n",
       "      <td>BANGALORE</td>\n",
       "      <td>Gold</td>\n",
       "      <td>500000.0</td>\n",
       "      <td>C1</td>\n",
       "      <td>Self Employed</td>\n",
       "      <td>5</td>\n",
       "      <td>2005-01-17</td>\n",
       "      <td>CAMERA</td>\n",
       "      <td>369694.07</td>\n",
       "    </tr>\n",
       "  </tbody>\n",
       "</table>\n",
       "</div>"
      ],
      "text/plain": [
       "   Sl_no_x Customer  Age       City Product     Limit Company        Segment  \\\n",
       "0        1       A1   76  BANGALORE    Gold  500000.0      C1  Self Employed   \n",
       "1        1       A1   76  BANGALORE    Gold  500000.0      C1  Self Employed   \n",
       "2        1       A1   76  BANGALORE    Gold  500000.0      C1  Self Employed   \n",
       "3        1       A1   76  BANGALORE    Gold  500000.0      C1  Self Employed   \n",
       "4        1       A1   76  BANGALORE    Gold  500000.0      C1  Self Employed   \n",
       "\n",
       "   Sl_no_y spend_date       Type  spend_amt  \n",
       "0        1 2004-01-12  JEWELLERY  485470.80  \n",
       "1        2 2004-01-03      PETRO  410556.13  \n",
       "2        3 2004-01-15    CLOTHES   23740.46  \n",
       "3        4 2004-01-25       FOOD  484342.47  \n",
       "4        5 2005-01-17     CAMERA  369694.07  "
      ]
     },
     "execution_count": 196,
     "metadata": {},
     "output_type": "execute_result"
    }
   ],
   "source": [
    "cust_sp.head()"
   ]
  },
  {
   "cell_type": "markdown",
   "id": "afea70f2",
   "metadata": {},
   "source": [
    "1. In the above dataset,\n",
    " a. In case age is less than 18, replace it with mean of age values.\n",
    " b. In case spend amount is more than the limit, replace it with 50% of that customer’s limit. \n",
    "(customer’s limit provided in acquisition table is the per transaction limit on his card)\n",
    " c. Incase the repayment amount is more than the limit, replace the repayment with the \n",
    "limit."
   ]
  },
  {
   "cell_type": "markdown",
   "id": "3a70657d",
   "metadata": {},
   "source": [
    " a. In case age is less than 18, replace it with mean of age values."
   ]
  },
  {
   "cell_type": "code",
   "execution_count": 197,
   "id": "2b101833",
   "metadata": {},
   "outputs": [],
   "source": [
    "cust_rp['Age'] = pd.Series( np.where( cust_rp.Age <18, \n",
    "                             cust_rp.Age.mean(),cust_rp.Age )).astype(int)"
   ]
  },
  {
   "cell_type": "code",
   "execution_count": 198,
   "id": "d96d9fa3",
   "metadata": {},
   "outputs": [],
   "source": [
    "cust_sp['Age'] = pd.Series( np.where( cust_sp.Age <18, \n",
    "                             cust_sp.Age.mean(),cust_sp.Age )).astype(int)"
   ]
  },
  {
   "cell_type": "markdown",
   "id": "b9fdf022",
   "metadata": {},
   "source": [
    "b. In case spend amount is more than the limit, replace it with 50% of that customer’s limit.\n",
    "(customer’s limit provided in acquisition table is the per transaction limit on his card)"
   ]
  },
  {
   "cell_type": "code",
   "execution_count": 199,
   "id": "abc66f80",
   "metadata": {},
   "outputs": [],
   "source": [
    "cust_sp['spend_amt'] = pd.Series( np.where( cust_sp.spend_amt > cust_sp.Limit, \n",
    "                            cust_sp.Limit*0.5,cust_sp.spend_amt))"
   ]
  },
  {
   "cell_type": "markdown",
   "id": "971bfe6e",
   "metadata": {},
   "source": [
    "c. Incase the repayment amount is more than the limit, replace the repayment with the limit."
   ]
  },
  {
   "cell_type": "code",
   "execution_count": 200,
   "id": "6af1c2f3",
   "metadata": {},
   "outputs": [],
   "source": [
    "cust_rp['repay_amt'] = pd.Series( np.where( cust_rp.repay_amt > cust_rp.Limit, \n",
    "                            cust_rp.Limit,cust_rp.repay_amt))"
   ]
  },
  {
   "cell_type": "markdown",
   "id": "2d6f810c",
   "metadata": {},
   "source": [
    "2. From the above dataset create the following summaries:\n",
    " a. How many distinct customers exist?\n",
    " b. How many distinct categories exist?\n",
    " c. What is the average monthly spend by customers?\n",
    " d. What is the average monthly repayment by customers?\n",
    " e. If the monthly rate of interest is 2.9%, what is the profit for the bank for each month? \n",
    "(Profit is defined as interest earned on Monthly Profit. Monthly Profit = Monthly repayment \n",
    "– Monthly spend. Interest is earned only on positive profits and not on negative amounts)\n",
    "f. What are the top 5 product types?\n",
    " g. Which city is having maximum spend?\n",
    " h. Which age group is spending more money?\n",
    "i. Who are the top 10 customers in terms of repayment?"
   ]
  },
  {
   "cell_type": "markdown",
   "id": "c47ff7c3",
   "metadata": {},
   "source": [
    "a. How many distinct customers exist"
   ]
  },
  {
   "cell_type": "code",
   "execution_count": 201,
   "id": "d53aa8f1",
   "metadata": {},
   "outputs": [
    {
     "data": {
      "text/plain": [
       "0"
      ]
     },
     "execution_count": 201,
     "metadata": {},
     "output_type": "execute_result"
    }
   ],
   "source": [
    "cust_acq.duplicated().sum()"
   ]
  },
  {
   "cell_type": "code",
   "execution_count": 202,
   "id": "474fc43f",
   "metadata": {},
   "outputs": [
    {
     "data": {
      "text/plain": [
       "100"
      ]
     },
     "execution_count": 202,
     "metadata": {},
     "output_type": "execute_result"
    }
   ],
   "source": [
    "cust_acq.Customer.unique().shape[0]"
   ]
  },
  {
   "cell_type": "markdown",
   "id": "1303f86f",
   "metadata": {},
   "source": [
    "b. How many distinct categories exist?"
   ]
  },
  {
   "cell_type": "code",
   "execution_count": 203,
   "id": "cc863edf",
   "metadata": {},
   "outputs": [
    {
     "data": {
      "text/plain": [
       "3"
      ]
     },
     "execution_count": 203,
     "metadata": {},
     "output_type": "execute_result"
    }
   ],
   "source": [
    "cust_acq.Product.unique().shape[0]"
   ]
  },
  {
   "cell_type": "markdown",
   "id": "fef24111",
   "metadata": {},
   "source": [
    "c. What is the average monthly spend by customers?"
   ]
  },
  {
   "cell_type": "code",
   "execution_count": 204,
   "id": "7371d794",
   "metadata": {},
   "outputs": [],
   "source": [
    "cust_sp['year_0'] = pd.DatetimeIndex(cust_sp.spend_date).year\n",
    "cust_sp['month_0'] = pd.DatetimeIndex(cust_sp.spend_date).month"
   ]
  },
  {
   "cell_type": "code",
   "execution_count": 205,
   "id": "8324db11",
   "metadata": {},
   "outputs": [
    {
     "data": {
      "text/html": [
       "<div>\n",
       "<style scoped>\n",
       "    .dataframe tbody tr th:only-of-type {\n",
       "        vertical-align: middle;\n",
       "    }\n",
       "\n",
       "    .dataframe tbody tr th {\n",
       "        vertical-align: top;\n",
       "    }\n",
       "\n",
       "    .dataframe thead th {\n",
       "        text-align: right;\n",
       "    }\n",
       "</style>\n",
       "<table border=\"1\" class=\"dataframe\">\n",
       "  <thead>\n",
       "    <tr style=\"text-align: right;\">\n",
       "      <th></th>\n",
       "      <th></th>\n",
       "      <th>spend_amt</th>\n",
       "    </tr>\n",
       "    <tr>\n",
       "      <th>year_0</th>\n",
       "      <th>month_0</th>\n",
       "      <th></th>\n",
       "    </tr>\n",
       "  </thead>\n",
       "  <tbody>\n",
       "    <tr>\n",
       "      <th rowspan=\"7\" valign=\"top\">2004</th>\n",
       "      <th>1</th>\n",
       "      <td>44279811.96</td>\n",
       "    </tr>\n",
       "    <tr>\n",
       "      <th>2</th>\n",
       "      <td>3835951.84</td>\n",
       "    </tr>\n",
       "    <tr>\n",
       "      <th>3</th>\n",
       "      <td>1871913.27</td>\n",
       "    </tr>\n",
       "    <tr>\n",
       "      <th>4</th>\n",
       "      <td>3489415.34</td>\n",
       "    </tr>\n",
       "    <tr>\n",
       "      <th>5</th>\n",
       "      <td>2146577.36</td>\n",
       "    </tr>\n",
       "    <tr>\n",
       "      <th>9</th>\n",
       "      <td>2402109.69</td>\n",
       "    </tr>\n",
       "    <tr>\n",
       "      <th>11</th>\n",
       "      <td>1114989.10</td>\n",
       "    </tr>\n",
       "    <tr>\n",
       "      <th rowspan=\"3\" valign=\"top\">2005</th>\n",
       "      <th>1</th>\n",
       "      <td>5383606.78</td>\n",
       "    </tr>\n",
       "    <tr>\n",
       "      <th>2</th>\n",
       "      <td>25928183.21</td>\n",
       "    </tr>\n",
       "    <tr>\n",
       "      <th>4</th>\n",
       "      <td>4100065.73</td>\n",
       "    </tr>\n",
       "  </tbody>\n",
       "</table>\n",
       "</div>"
      ],
      "text/plain": [
       "                  spend_amt\n",
       "year_0 month_0             \n",
       "2004   1        44279811.96\n",
       "       2         3835951.84\n",
       "       3         1871913.27\n",
       "       4         3489415.34\n",
       "       5         2146577.36\n",
       "       9         2402109.69\n",
       "       11        1114989.10\n",
       "2005   1         5383606.78\n",
       "       2        25928183.21\n",
       "       4         4100065.73"
      ]
     },
     "execution_count": 205,
     "metadata": {},
     "output_type": "execute_result"
    }
   ],
   "source": [
    "cust_sp.groupby(['year_0','month_0'])[['spend_amt']].sum().head(10)"
   ]
  },
  {
   "cell_type": "code",
   "execution_count": 206,
   "id": "bd07d07b",
   "metadata": {},
   "outputs": [
    {
     "data": {
      "text/plain": [
       "spend_amt    7326036.17\n",
       "dtype: float64"
      ]
     },
     "execution_count": 206,
     "metadata": {},
     "output_type": "execute_result"
    }
   ],
   "source": [
    "cust_sp.groupby(['year_0','month_0'])[['spend_amt']].sum().mean().round(2)"
   ]
  },
  {
   "cell_type": "markdown",
   "id": "63a611f3",
   "metadata": {},
   "source": [
    "d. What is the average monthly repayment by customers?"
   ]
  },
  {
   "cell_type": "code",
   "execution_count": 207,
   "id": "29bb2f9d",
   "metadata": {},
   "outputs": [],
   "source": [
    "cust_rp['year_0'] = pd.DatetimeIndex(cust_rp.repay_date).year\n",
    "cust_rp['month_0'] = pd.DatetimeIndex(cust_rp.repay_date).month"
   ]
  },
  {
   "cell_type": "code",
   "execution_count": 208,
   "id": "547c842b",
   "metadata": {},
   "outputs": [
    {
     "data": {
      "text/plain": [
       "repay_amt    8166078.67\n",
       "dtype: float64"
      ]
     },
     "execution_count": 208,
     "metadata": {},
     "output_type": "execute_result"
    }
   ],
   "source": [
    "cust_rp.groupby(['year_0','month_0'])[['repay_amt']].sum().mean().round(2)"
   ]
  },
  {
   "cell_type": "markdown",
   "id": "935af872",
   "metadata": {},
   "source": [
    "e. If the monthly rate of interest is 2.9%, what is the profit for the bank for each month?\n",
    "(Profit is defined as interest earned on Monthly Profit. Monthly Profit = Monthly repayment – Monthly spend.\n",
    " Interest is earned only on positive profits and not on negative amounts) "
   ]
  },
  {
   "cell_type": "code",
   "execution_count": 209,
   "id": "2148479b",
   "metadata": {},
   "outputs": [],
   "source": [
    "monthly_sp = cust_sp.groupby(['year_0','month_0'])[['spend_amt']].sum()"
   ]
  },
  {
   "cell_type": "code",
   "execution_count": 210,
   "id": "f9a3a1b1",
   "metadata": {},
   "outputs": [],
   "source": [
    "monthly_rp = cust_rp.groupby(['year_0','month_0'])[['repay_amt']].sum()"
   ]
  },
  {
   "cell_type": "code",
   "execution_count": 211,
   "id": "0f7564f4",
   "metadata": {},
   "outputs": [],
   "source": [
    "monthly_sp['repay_amt']=monthly_rp"
   ]
  },
  {
   "cell_type": "code",
   "execution_count": 212,
   "id": "77344278",
   "metadata": {},
   "outputs": [],
   "source": [
    "monthly_sp['monthly_profit']= monthly_sp.repay_amt - monthly_sp.spend_amt"
   ]
  },
  {
   "cell_type": "code",
   "execution_count": 213,
   "id": "019696b4",
   "metadata": {},
   "outputs": [],
   "source": [
    "monthly_sp['interest_earned'] = np.where( monthly_sp.monthly_profit >0,monthly_sp.monthly_profit*0.029,0).round(2)"
   ]
  },
  {
   "cell_type": "code",
   "execution_count": 214,
   "id": "16432440",
   "metadata": {},
   "outputs": [
    {
     "data": {
      "text/html": [
       "<div>\n",
       "<style scoped>\n",
       "    .dataframe tbody tr th:only-of-type {\n",
       "        vertical-align: middle;\n",
       "    }\n",
       "\n",
       "    .dataframe tbody tr th {\n",
       "        vertical-align: top;\n",
       "    }\n",
       "\n",
       "    .dataframe thead th {\n",
       "        text-align: right;\n",
       "    }\n",
       "</style>\n",
       "<table border=\"1\" class=\"dataframe\">\n",
       "  <thead>\n",
       "    <tr style=\"text-align: right;\">\n",
       "      <th></th>\n",
       "      <th></th>\n",
       "      <th>spend_amt</th>\n",
       "      <th>repay_amt</th>\n",
       "      <th>monthly_profit</th>\n",
       "      <th>interest_earned</th>\n",
       "    </tr>\n",
       "    <tr>\n",
       "      <th>year_0</th>\n",
       "      <th>month_0</th>\n",
       "      <th></th>\n",
       "      <th></th>\n",
       "      <th></th>\n",
       "      <th></th>\n",
       "    </tr>\n",
       "  </thead>\n",
       "  <tbody>\n",
       "    <tr>\n",
       "      <th rowspan=\"7\" valign=\"top\">2004</th>\n",
       "      <th>1</th>\n",
       "      <td>44279811.96</td>\n",
       "      <td>44792020.72</td>\n",
       "      <td>512208.76</td>\n",
       "      <td>14854.05</td>\n",
       "    </tr>\n",
       "    <tr>\n",
       "      <th>2</th>\n",
       "      <td>3835951.84</td>\n",
       "      <td>3391537.65</td>\n",
       "      <td>-444414.19</td>\n",
       "      <td>0.00</td>\n",
       "    </tr>\n",
       "    <tr>\n",
       "      <th>3</th>\n",
       "      <td>1871913.27</td>\n",
       "      <td>2666519.22</td>\n",
       "      <td>794605.95</td>\n",
       "      <td>23043.57</td>\n",
       "    </tr>\n",
       "    <tr>\n",
       "      <th>4</th>\n",
       "      <td>3489415.34</td>\n",
       "      <td>5268979.74</td>\n",
       "      <td>1779564.40</td>\n",
       "      <td>51607.37</td>\n",
       "    </tr>\n",
       "    <tr>\n",
       "      <th>5</th>\n",
       "      <td>2146577.36</td>\n",
       "      <td>3782759.91</td>\n",
       "      <td>1636182.55</td>\n",
       "      <td>47449.29</td>\n",
       "    </tr>\n",
       "    <tr>\n",
       "      <th>9</th>\n",
       "      <td>2402109.69</td>\n",
       "      <td>1902816.41</td>\n",
       "      <td>-499293.28</td>\n",
       "      <td>0.00</td>\n",
       "    </tr>\n",
       "    <tr>\n",
       "      <th>11</th>\n",
       "      <td>1114989.10</td>\n",
       "      <td>1788398.63</td>\n",
       "      <td>673409.53</td>\n",
       "      <td>19528.88</td>\n",
       "    </tr>\n",
       "    <tr>\n",
       "      <th rowspan=\"11\" valign=\"top\">2005</th>\n",
       "      <th>1</th>\n",
       "      <td>5383606.78</td>\n",
       "      <td>4894040.25</td>\n",
       "      <td>-489566.53</td>\n",
       "      <td>0.00</td>\n",
       "    </tr>\n",
       "    <tr>\n",
       "      <th>2</th>\n",
       "      <td>25928183.21</td>\n",
       "      <td>25491800.20</td>\n",
       "      <td>-436383.01</td>\n",
       "      <td>0.00</td>\n",
       "    </tr>\n",
       "    <tr>\n",
       "      <th>4</th>\n",
       "      <td>4100065.73</td>\n",
       "      <td>3634903.56</td>\n",
       "      <td>-465162.17</td>\n",
       "      <td>0.00</td>\n",
       "    </tr>\n",
       "    <tr>\n",
       "      <th>5</th>\n",
       "      <td>21647612.42</td>\n",
       "      <td>30818764.69</td>\n",
       "      <td>9171152.27</td>\n",
       "      <td>265963.42</td>\n",
       "    </tr>\n",
       "    <tr>\n",
       "      <th>6</th>\n",
       "      <td>8010511.98</td>\n",
       "      <td>3493885.53</td>\n",
       "      <td>-4516626.45</td>\n",
       "      <td>0.00</td>\n",
       "    </tr>\n",
       "    <tr>\n",
       "      <th>7</th>\n",
       "      <td>1691243.28</td>\n",
       "      <td>1799339.14</td>\n",
       "      <td>108095.86</td>\n",
       "      <td>3134.78</td>\n",
       "    </tr>\n",
       "    <tr>\n",
       "      <th>8</th>\n",
       "      <td>3967808.19</td>\n",
       "      <td>5549411.88</td>\n",
       "      <td>1581603.69</td>\n",
       "      <td>45866.51</td>\n",
       "    </tr>\n",
       "    <tr>\n",
       "      <th>9</th>\n",
       "      <td>1531932.87</td>\n",
       "      <td>882719.54</td>\n",
       "      <td>-649213.33</td>\n",
       "      <td>0.00</td>\n",
       "    </tr>\n",
       "    <tr>\n",
       "      <th>10</th>\n",
       "      <td>1258311.90</td>\n",
       "      <td>1635219.22</td>\n",
       "      <td>376907.32</td>\n",
       "      <td>10930.31</td>\n",
       "    </tr>\n",
       "    <tr>\n",
       "      <th>11</th>\n",
       "      <td>7481048.89</td>\n",
       "      <td>7107487.13</td>\n",
       "      <td>-373561.76</td>\n",
       "      <td>0.00</td>\n",
       "    </tr>\n",
       "    <tr>\n",
       "      <th>12</th>\n",
       "      <td>1181824.00</td>\n",
       "      <td>2149428.61</td>\n",
       "      <td>967604.61</td>\n",
       "      <td>28060.53</td>\n",
       "    </tr>\n",
       "    <tr>\n",
       "      <th rowspan=\"12\" valign=\"top\">2006</th>\n",
       "      <th>1</th>\n",
       "      <td>1908375.22</td>\n",
       "      <td>2453064.46</td>\n",
       "      <td>544689.24</td>\n",
       "      <td>15795.99</td>\n",
       "    </tr>\n",
       "    <tr>\n",
       "      <th>2</th>\n",
       "      <td>6236117.45</td>\n",
       "      <td>7339728.53</td>\n",
       "      <td>1103611.08</td>\n",
       "      <td>32004.72</td>\n",
       "    </tr>\n",
       "    <tr>\n",
       "      <th>3</th>\n",
       "      <td>28583302.72</td>\n",
       "      <td>31591837.84</td>\n",
       "      <td>3008535.12</td>\n",
       "      <td>87247.52</td>\n",
       "    </tr>\n",
       "    <tr>\n",
       "      <th>4</th>\n",
       "      <td>12665908.03</td>\n",
       "      <td>16247638.94</td>\n",
       "      <td>3581730.91</td>\n",
       "      <td>103870.20</td>\n",
       "    </tr>\n",
       "    <tr>\n",
       "      <th>5</th>\n",
       "      <td>8046846.48</td>\n",
       "      <td>14900517.86</td>\n",
       "      <td>6853671.38</td>\n",
       "      <td>198756.47</td>\n",
       "    </tr>\n",
       "    <tr>\n",
       "      <th>6</th>\n",
       "      <td>2183600.98</td>\n",
       "      <td>1985148.84</td>\n",
       "      <td>-198452.14</td>\n",
       "      <td>0.00</td>\n",
       "    </tr>\n",
       "    <tr>\n",
       "      <th>7</th>\n",
       "      <td>5294483.07</td>\n",
       "      <td>6295652.89</td>\n",
       "      <td>1001169.82</td>\n",
       "      <td>29033.92</td>\n",
       "    </tr>\n",
       "    <tr>\n",
       "      <th>8</th>\n",
       "      <td>2994094.85</td>\n",
       "      <td>1938641.97</td>\n",
       "      <td>-1055452.88</td>\n",
       "      <td>0.00</td>\n",
       "    </tr>\n",
       "    <tr>\n",
       "      <th>9</th>\n",
       "      <td>1993489.03</td>\n",
       "      <td>2388294.79</td>\n",
       "      <td>394805.76</td>\n",
       "      <td>11449.37</td>\n",
       "    </tr>\n",
       "    <tr>\n",
       "      <th>10</th>\n",
       "      <td>2410188.02</td>\n",
       "      <td>2447635.07</td>\n",
       "      <td>37447.05</td>\n",
       "      <td>1085.96</td>\n",
       "    </tr>\n",
       "    <tr>\n",
       "      <th>11</th>\n",
       "      <td>4039950.52</td>\n",
       "      <td>3930259.60</td>\n",
       "      <td>-109690.92</td>\n",
       "      <td>0.00</td>\n",
       "    </tr>\n",
       "    <tr>\n",
       "      <th>12</th>\n",
       "      <td>2101811.05</td>\n",
       "      <td>2413907.27</td>\n",
       "      <td>312096.22</td>\n",
       "      <td>9050.79</td>\n",
       "    </tr>\n",
       "  </tbody>\n",
       "</table>\n",
       "</div>"
      ],
      "text/plain": [
       "                  spend_amt    repay_amt  monthly_profit  interest_earned\n",
       "year_0 month_0                                                           \n",
       "2004   1        44279811.96  44792020.72       512208.76         14854.05\n",
       "       2         3835951.84   3391537.65      -444414.19             0.00\n",
       "       3         1871913.27   2666519.22       794605.95         23043.57\n",
       "       4         3489415.34   5268979.74      1779564.40         51607.37\n",
       "       5         2146577.36   3782759.91      1636182.55         47449.29\n",
       "       9         2402109.69   1902816.41      -499293.28             0.00\n",
       "       11        1114989.10   1788398.63       673409.53         19528.88\n",
       "2005   1         5383606.78   4894040.25      -489566.53             0.00\n",
       "       2        25928183.21  25491800.20      -436383.01             0.00\n",
       "       4         4100065.73   3634903.56      -465162.17             0.00\n",
       "       5        21647612.42  30818764.69      9171152.27        265963.42\n",
       "       6         8010511.98   3493885.53     -4516626.45             0.00\n",
       "       7         1691243.28   1799339.14       108095.86          3134.78\n",
       "       8         3967808.19   5549411.88      1581603.69         45866.51\n",
       "       9         1531932.87    882719.54      -649213.33             0.00\n",
       "       10        1258311.90   1635219.22       376907.32         10930.31\n",
       "       11        7481048.89   7107487.13      -373561.76             0.00\n",
       "       12        1181824.00   2149428.61       967604.61         28060.53\n",
       "2006   1         1908375.22   2453064.46       544689.24         15795.99\n",
       "       2         6236117.45   7339728.53      1103611.08         32004.72\n",
       "       3        28583302.72  31591837.84      3008535.12         87247.52\n",
       "       4        12665908.03  16247638.94      3581730.91        103870.20\n",
       "       5         8046846.48  14900517.86      6853671.38        198756.47\n",
       "       6         2183600.98   1985148.84      -198452.14             0.00\n",
       "       7         5294483.07   6295652.89      1001169.82         29033.92\n",
       "       8         2994094.85   1938641.97     -1055452.88             0.00\n",
       "       9         1993489.03   2388294.79       394805.76         11449.37\n",
       "       10        2410188.02   2447635.07        37447.05          1085.96\n",
       "       11        4039950.52   3930259.60      -109690.92             0.00\n",
       "       12        2101811.05   2413907.27       312096.22          9050.79"
      ]
     },
     "execution_count": 214,
     "metadata": {},
     "output_type": "execute_result"
    }
   ],
   "source": [
    "monthly_sp"
   ]
  },
  {
   "cell_type": "markdown",
   "id": "d3e619cb",
   "metadata": {},
   "source": [
    "f. What are the top 5 product types?"
   ]
  },
  {
   "cell_type": "code",
   "execution_count": 215,
   "id": "d2bf8fde",
   "metadata": {},
   "outputs": [
    {
     "data": {
      "text/html": [
       "<div>\n",
       "<style scoped>\n",
       "    .dataframe tbody tr th:only-of-type {\n",
       "        vertical-align: middle;\n",
       "    }\n",
       "\n",
       "    .dataframe tbody tr th {\n",
       "        vertical-align: top;\n",
       "    }\n",
       "\n",
       "    .dataframe thead th {\n",
       "        text-align: right;\n",
       "    }\n",
       "</style>\n",
       "<table border=\"1\" class=\"dataframe\">\n",
       "  <thead>\n",
       "    <tr style=\"text-align: right;\">\n",
       "      <th></th>\n",
       "      <th>sum</th>\n",
       "    </tr>\n",
       "    <tr>\n",
       "      <th>Type</th>\n",
       "      <th></th>\n",
       "    </tr>\n",
       "  </thead>\n",
       "  <tbody>\n",
       "    <tr>\n",
       "      <th>PETRO</th>\n",
       "      <td>28597384.98</td>\n",
       "    </tr>\n",
       "    <tr>\n",
       "      <th>CAMERA</th>\n",
       "      <td>27690738.44</td>\n",
       "    </tr>\n",
       "    <tr>\n",
       "      <th>FOOD</th>\n",
       "      <td>20519243.60</td>\n",
       "    </tr>\n",
       "    <tr>\n",
       "      <th>AIR TICKET</th>\n",
       "      <td>20155847.12</td>\n",
       "    </tr>\n",
       "    <tr>\n",
       "      <th>TRAIN TICKET</th>\n",
       "      <td>19995825.72</td>\n",
       "    </tr>\n",
       "  </tbody>\n",
       "</table>\n",
       "</div>"
      ],
      "text/plain": [
       "                      sum\n",
       "Type                     \n",
       "PETRO         28597384.98\n",
       "CAMERA        27690738.44\n",
       "FOOD          20519243.60\n",
       "AIR TICKET    20155847.12\n",
       "TRAIN TICKET  19995825.72"
      ]
     },
     "execution_count": 215,
     "metadata": {},
     "output_type": "execute_result"
    }
   ],
   "source": [
    "cust_sp.groupby(by='Type').spend_amt.agg(['sum']).sort_values( by ='sum',ascending = False).head(5)"
   ]
  },
  {
   "cell_type": "markdown",
   "id": "ac3ba9fd",
   "metadata": {},
   "source": [
    "g. Which city is having maximum spend?"
   ]
  },
  {
   "cell_type": "code",
   "execution_count": 216,
   "id": "45e21b5b",
   "metadata": {},
   "outputs": [
    {
     "data": {
      "text/html": [
       "<div>\n",
       "<style scoped>\n",
       "    .dataframe tbody tr th:only-of-type {\n",
       "        vertical-align: middle;\n",
       "    }\n",
       "\n",
       "    .dataframe tbody tr th {\n",
       "        vertical-align: top;\n",
       "    }\n",
       "\n",
       "    .dataframe thead th {\n",
       "        text-align: right;\n",
       "    }\n",
       "</style>\n",
       "<table border=\"1\" class=\"dataframe\">\n",
       "  <thead>\n",
       "    <tr style=\"text-align: right;\">\n",
       "      <th></th>\n",
       "      <th>sum</th>\n",
       "    </tr>\n",
       "    <tr>\n",
       "      <th>City</th>\n",
       "      <th></th>\n",
       "    </tr>\n",
       "  </thead>\n",
       "  <tbody>\n",
       "    <tr>\n",
       "      <th>COCHIN</th>\n",
       "      <td>45963513.5</td>\n",
       "    </tr>\n",
       "  </tbody>\n",
       "</table>\n",
       "</div>"
      ],
      "text/plain": [
       "               sum\n",
       "City              \n",
       "COCHIN  45963513.5"
      ]
     },
     "execution_count": 216,
     "metadata": {},
     "output_type": "execute_result"
    }
   ],
   "source": [
    "cust_sp.groupby(by='City').spend_amt.agg(['sum']).sort_values( by ='sum',ascending = False).head(1)"
   ]
  },
  {
   "cell_type": "markdown",
   "id": "6015c014",
   "metadata": {},
   "source": [
    "h. Which age group is spending more money"
   ]
  },
  {
   "cell_type": "code",
   "execution_count": 217,
   "id": "8c37be32",
   "metadata": {},
   "outputs": [
    {
     "data": {
      "text/html": [
       "<div>\n",
       "<style scoped>\n",
       "    .dataframe tbody tr th:only-of-type {\n",
       "        vertical-align: middle;\n",
       "    }\n",
       "\n",
       "    .dataframe tbody tr th {\n",
       "        vertical-align: top;\n",
       "    }\n",
       "\n",
       "    .dataframe thead th {\n",
       "        text-align: right;\n",
       "    }\n",
       "</style>\n",
       "<table border=\"1\" class=\"dataframe\">\n",
       "  <thead>\n",
       "    <tr style=\"text-align: right;\">\n",
       "      <th></th>\n",
       "      <th>sum</th>\n",
       "    </tr>\n",
       "    <tr>\n",
       "      <th>Age</th>\n",
       "      <th></th>\n",
       "    </tr>\n",
       "  </thead>\n",
       "  <tbody>\n",
       "    <tr>\n",
       "      <th>44</th>\n",
       "      <td>24874877.77</td>\n",
       "    </tr>\n",
       "  </tbody>\n",
       "</table>\n",
       "</div>"
      ],
      "text/plain": [
       "             sum\n",
       "Age             \n",
       "44   24874877.77"
      ]
     },
     "execution_count": 217,
     "metadata": {},
     "output_type": "execute_result"
    }
   ],
   "source": [
    "cust_sp.groupby(by='Age').spend_amt.agg(['sum']).sort_values( by ='sum',ascending = False).head(1)"
   ]
  },
  {
   "cell_type": "markdown",
   "id": "bba45229",
   "metadata": {},
   "source": [
    "i. Who are the top 10 customers in terms of repayment?"
   ]
  },
  {
   "cell_type": "code",
   "execution_count": 218,
   "id": "62589129",
   "metadata": {},
   "outputs": [
    {
     "data": {
      "text/html": [
       "<div>\n",
       "<style scoped>\n",
       "    .dataframe tbody tr th:only-of-type {\n",
       "        vertical-align: middle;\n",
       "    }\n",
       "\n",
       "    .dataframe tbody tr th {\n",
       "        vertical-align: top;\n",
       "    }\n",
       "\n",
       "    .dataframe thead th {\n",
       "        text-align: right;\n",
       "    }\n",
       "</style>\n",
       "<table border=\"1\" class=\"dataframe\">\n",
       "  <thead>\n",
       "    <tr style=\"text-align: right;\">\n",
       "      <th></th>\n",
       "      <th>sum</th>\n",
       "    </tr>\n",
       "    <tr>\n",
       "      <th>Customer</th>\n",
       "      <th></th>\n",
       "    </tr>\n",
       "  </thead>\n",
       "  <tbody>\n",
       "    <tr>\n",
       "      <th>A61</th>\n",
       "      <td>10539142.91</td>\n",
       "    </tr>\n",
       "    <tr>\n",
       "      <th>A60</th>\n",
       "      <td>9876290.74</td>\n",
       "    </tr>\n",
       "    <tr>\n",
       "      <th>A13</th>\n",
       "      <td>9572000.66</td>\n",
       "    </tr>\n",
       "    <tr>\n",
       "      <th>A43</th>\n",
       "      <td>8489871.46</td>\n",
       "    </tr>\n",
       "    <tr>\n",
       "      <th>A45</th>\n",
       "      <td>8448334.87</td>\n",
       "    </tr>\n",
       "    <tr>\n",
       "      <th>A12</th>\n",
       "      <td>8334760.16</td>\n",
       "    </tr>\n",
       "    <tr>\n",
       "      <th>A14</th>\n",
       "      <td>7943268.63</td>\n",
       "    </tr>\n",
       "    <tr>\n",
       "      <th>A44</th>\n",
       "      <td>7744730.12</td>\n",
       "    </tr>\n",
       "    <tr>\n",
       "      <th>A39</th>\n",
       "      <td>7622483.30</td>\n",
       "    </tr>\n",
       "    <tr>\n",
       "      <th>A42</th>\n",
       "      <td>7615460.86</td>\n",
       "    </tr>\n",
       "  </tbody>\n",
       "</table>\n",
       "</div>"
      ],
      "text/plain": [
       "                  sum\n",
       "Customer             \n",
       "A61       10539142.91\n",
       "A60        9876290.74\n",
       "A13        9572000.66\n",
       "A43        8489871.46\n",
       "A45        8448334.87\n",
       "A12        8334760.16\n",
       "A14        7943268.63\n",
       "A44        7744730.12\n",
       "A39        7622483.30\n",
       "A42        7615460.86"
      ]
     },
     "execution_count": 218,
     "metadata": {},
     "output_type": "execute_result"
    }
   ],
   "source": [
    "cust_rp.groupby(by='Customer').repay_amt.agg(['sum']).sort_values( by ='sum',ascending = False).head(10)"
   ]
  },
  {
   "cell_type": "markdown",
   "id": "b20c84a0",
   "metadata": {},
   "source": [
    "3. Calculate the city wise spend on each product on yearly basis. Also include a graphical \n",
    "representation for the same."
   ]
  },
  {
   "cell_type": "code",
   "execution_count": 219,
   "id": "c4f52c6e",
   "metadata": {},
   "outputs": [
    {
     "data": {
      "text/html": [
       "<div>\n",
       "<style scoped>\n",
       "    .dataframe tbody tr th:only-of-type {\n",
       "        vertical-align: middle;\n",
       "    }\n",
       "\n",
       "    .dataframe tbody tr th {\n",
       "        vertical-align: top;\n",
       "    }\n",
       "\n",
       "    .dataframe thead th {\n",
       "        text-align: right;\n",
       "    }\n",
       "</style>\n",
       "<table border=\"1\" class=\"dataframe\">\n",
       "  <thead>\n",
       "    <tr style=\"text-align: right;\">\n",
       "      <th></th>\n",
       "      <th>Sl_no_x</th>\n",
       "      <th>Customer</th>\n",
       "      <th>Age</th>\n",
       "      <th>City</th>\n",
       "      <th>Product</th>\n",
       "      <th>Limit</th>\n",
       "      <th>Company</th>\n",
       "      <th>Segment</th>\n",
       "      <th>Sl_no_y</th>\n",
       "      <th>spend_date</th>\n",
       "      <th>Type</th>\n",
       "      <th>spend_amt</th>\n",
       "      <th>year_0</th>\n",
       "      <th>month_0</th>\n",
       "    </tr>\n",
       "  </thead>\n",
       "  <tbody>\n",
       "    <tr>\n",
       "      <th>0</th>\n",
       "      <td>1</td>\n",
       "      <td>A1</td>\n",
       "      <td>76</td>\n",
       "      <td>BANGALORE</td>\n",
       "      <td>Gold</td>\n",
       "      <td>500000.0</td>\n",
       "      <td>C1</td>\n",
       "      <td>Self Employed</td>\n",
       "      <td>1</td>\n",
       "      <td>2004-01-12</td>\n",
       "      <td>JEWELLERY</td>\n",
       "      <td>485470.8</td>\n",
       "      <td>2004</td>\n",
       "      <td>1</td>\n",
       "    </tr>\n",
       "  </tbody>\n",
       "</table>\n",
       "</div>"
      ],
      "text/plain": [
       "   Sl_no_x Customer  Age       City Product     Limit Company        Segment  \\\n",
       "0        1       A1   76  BANGALORE    Gold  500000.0      C1  Self Employed   \n",
       "\n",
       "   Sl_no_y spend_date       Type  spend_amt  year_0  month_0  \n",
       "0        1 2004-01-12  JEWELLERY   485470.8    2004        1  "
      ]
     },
     "execution_count": 219,
     "metadata": {},
     "output_type": "execute_result"
    }
   ],
   "source": [
    "cust_sp.head(1)"
   ]
  },
  {
   "cell_type": "code",
   "execution_count": 220,
   "id": "0a9c2dc3",
   "metadata": {},
   "outputs": [
    {
     "data": {
      "text/html": [
       "<div>\n",
       "<style scoped>\n",
       "    .dataframe tbody tr th:only-of-type {\n",
       "        vertical-align: middle;\n",
       "    }\n",
       "\n",
       "    .dataframe tbody tr th {\n",
       "        vertical-align: top;\n",
       "    }\n",
       "\n",
       "    .dataframe thead tr th {\n",
       "        text-align: left;\n",
       "    }\n",
       "\n",
       "    .dataframe thead tr:last-of-type th {\n",
       "        text-align: right;\n",
       "    }\n",
       "</style>\n",
       "<table border=\"1\" class=\"dataframe\">\n",
       "  <thead>\n",
       "    <tr>\n",
       "      <th>Product</th>\n",
       "      <th colspan=\"3\" halign=\"left\">Gold</th>\n",
       "      <th colspan=\"3\" halign=\"left\">Platimum</th>\n",
       "      <th colspan=\"3\" halign=\"left\">Silver</th>\n",
       "    </tr>\n",
       "    <tr>\n",
       "      <th>year_0</th>\n",
       "      <th>2004</th>\n",
       "      <th>2005</th>\n",
       "      <th>2006</th>\n",
       "      <th>2004</th>\n",
       "      <th>2005</th>\n",
       "      <th>2006</th>\n",
       "      <th>2004</th>\n",
       "      <th>2005</th>\n",
       "      <th>2006</th>\n",
       "    </tr>\n",
       "    <tr>\n",
       "      <th>City</th>\n",
       "      <th></th>\n",
       "      <th></th>\n",
       "      <th></th>\n",
       "      <th></th>\n",
       "      <th></th>\n",
       "      <th></th>\n",
       "      <th></th>\n",
       "      <th></th>\n",
       "      <th></th>\n",
       "    </tr>\n",
       "  </thead>\n",
       "  <tbody>\n",
       "    <tr>\n",
       "      <th>BANGALORE</th>\n",
       "      <td>258052.18</td>\n",
       "      <td>222282.12</td>\n",
       "      <td>240612.22</td>\n",
       "      <td>38370.08</td>\n",
       "      <td>29428.55</td>\n",
       "      <td>26378.13</td>\n",
       "      <td>53827.19</td>\n",
       "      <td>46145.13</td>\n",
       "      <td>52425.22</td>\n",
       "    </tr>\n",
       "    <tr>\n",
       "      <th>BOMBAY</th>\n",
       "      <td>291160.56</td>\n",
       "      <td>230333.80</td>\n",
       "      <td>203003.70</td>\n",
       "      <td>35890.60</td>\n",
       "      <td>32354.77</td>\n",
       "      <td>31359.03</td>\n",
       "      <td>48371.73</td>\n",
       "      <td>46271.69</td>\n",
       "      <td>84064.14</td>\n",
       "    </tr>\n",
       "    <tr>\n",
       "      <th>CALCUTTA</th>\n",
       "      <td>219915.91</td>\n",
       "      <td>257583.90</td>\n",
       "      <td>253807.56</td>\n",
       "      <td>88595.23</td>\n",
       "      <td>123186.01</td>\n",
       "      <td>87551.38</td>\n",
       "      <td>50000.60</td>\n",
       "      <td>55018.38</td>\n",
       "      <td>77197.09</td>\n",
       "    </tr>\n",
       "    <tr>\n",
       "      <th>CHENNAI</th>\n",
       "      <td>176603.08</td>\n",
       "      <td>311745.47</td>\n",
       "      <td>245844.42</td>\n",
       "      <td>186086.97</td>\n",
       "      <td>157936.14</td>\n",
       "      <td>167497.45</td>\n",
       "      <td>56411.37</td>\n",
       "      <td>47148.06</td>\n",
       "      <td>50001.36</td>\n",
       "    </tr>\n",
       "    <tr>\n",
       "      <th>COCHIN</th>\n",
       "      <td>215172.06</td>\n",
       "      <td>263274.20</td>\n",
       "      <td>233314.28</td>\n",
       "      <td>106872.00</td>\n",
       "      <td>112748.22</td>\n",
       "      <td>98411.85</td>\n",
       "      <td>50889.35</td>\n",
       "      <td>50174.57</td>\n",
       "      <td>70555.05</td>\n",
       "    </tr>\n",
       "    <tr>\n",
       "      <th>DELHI</th>\n",
       "      <td>215884.23</td>\n",
       "      <td>178622.30</td>\n",
       "      <td>268827.57</td>\n",
       "      <td>47252.15</td>\n",
       "      <td>54906.43</td>\n",
       "      <td>58929.57</td>\n",
       "      <td>48010.77</td>\n",
       "      <td>55664.66</td>\n",
       "      <td>50288.23</td>\n",
       "    </tr>\n",
       "    <tr>\n",
       "      <th>PATNA</th>\n",
       "      <td>296081.13</td>\n",
       "      <td>271051.31</td>\n",
       "      <td>206925.61</td>\n",
       "      <td>371023.20</td>\n",
       "      <td>360403.88</td>\n",
       "      <td>179448.24</td>\n",
       "      <td>47292.76</td>\n",
       "      <td>47504.71</td>\n",
       "      <td>50000.36</td>\n",
       "    </tr>\n",
       "    <tr>\n",
       "      <th>TRIVANDRUM</th>\n",
       "      <td>241510.28</td>\n",
       "      <td>177196.55</td>\n",
       "      <td>273571.09</td>\n",
       "      <td>144111.78</td>\n",
       "      <td>120048.11</td>\n",
       "      <td>119300.21</td>\n",
       "      <td>41933.50</td>\n",
       "      <td>44985.50</td>\n",
       "      <td>50532.92</td>\n",
       "    </tr>\n",
       "  </tbody>\n",
       "</table>\n",
       "</div>"
      ],
      "text/plain": [
       "Product          Gold                         Platimum                        \\\n",
       "year_0           2004       2005       2006       2004       2005       2006   \n",
       "City                                                                           \n",
       "BANGALORE   258052.18  222282.12  240612.22   38370.08   29428.55   26378.13   \n",
       "BOMBAY      291160.56  230333.80  203003.70   35890.60   32354.77   31359.03   \n",
       "CALCUTTA    219915.91  257583.90  253807.56   88595.23  123186.01   87551.38   \n",
       "CHENNAI     176603.08  311745.47  245844.42  186086.97  157936.14  167497.45   \n",
       "COCHIN      215172.06  263274.20  233314.28  106872.00  112748.22   98411.85   \n",
       "DELHI       215884.23  178622.30  268827.57   47252.15   54906.43   58929.57   \n",
       "PATNA       296081.13  271051.31  206925.61  371023.20  360403.88  179448.24   \n",
       "TRIVANDRUM  241510.28  177196.55  273571.09  144111.78  120048.11  119300.21   \n",
       "\n",
       "Product       Silver                      \n",
       "year_0          2004      2005      2006  \n",
       "City                                      \n",
       "BANGALORE   53827.19  46145.13  52425.22  \n",
       "BOMBAY      48371.73  46271.69  84064.14  \n",
       "CALCUTTA    50000.60  55018.38  77197.09  \n",
       "CHENNAI     56411.37  47148.06  50001.36  \n",
       "COCHIN      50889.35  50174.57  70555.05  \n",
       "DELHI       48010.77  55664.66  50288.23  \n",
       "PATNA       47292.76  47504.71  50000.36  \n",
       "TRIVANDRUM  41933.50  44985.50  50532.92  "
      ]
     },
     "execution_count": 220,
     "metadata": {},
     "output_type": "execute_result"
    }
   ],
   "source": [
    "city_wise_sp = pd.pivot_table(data = cust_sp,index ='City', columns = ['Product','year_0'], values = 'spend_amt').round(2)\n",
    "city_wise_sp"
   ]
  },
  {
   "cell_type": "code",
   "execution_count": 221,
   "id": "e3ce6648",
   "metadata": {},
   "outputs": [
    {
     "data": {
      "image/png": "[encoded data removed]",
      "text/plain": [
       "<Figure size 432x288 with 1 Axes>"
      ]
     },
     "metadata": {
      "needs_background": "light"
     },
     "output_type": "display_data"
    }
   ],
   "source": [
    "city_wise_sp.plot(kind='bar',stacked=True)\n",
    "plt.show()"
   ]
  },
  {
   "cell_type": "markdown",
   "id": "574bec69",
   "metadata": {},
   "source": [
    "4. Create graphs for\n",
    " a. Monthly comparison of total spends, city wise\n",
    " b. Comparison of yearly spend on air tickets\n",
    " c. Comparison of monthly spend for each product (look for any seasonality\n",
    " that exists in terms of spend)"
   ]
  },
  {
   "cell_type": "markdown",
   "id": "08fde9fc",
   "metadata": {},
   "source": [
    "a. Monthly comparison of total spends, city wise"
   ]
  },
  {
   "cell_type": "code",
   "execution_count": 222,
   "id": "3c87cf20",
   "metadata": {},
   "outputs": [
    {
     "data": {
      "text/html": [
       "<div>\n",
       "<style scoped>\n",
       "    .dataframe tbody tr th:only-of-type {\n",
       "        vertical-align: middle;\n",
       "    }\n",
       "\n",
       "    .dataframe tbody tr th {\n",
       "        vertical-align: top;\n",
       "    }\n",
       "\n",
       "    .dataframe thead th {\n",
       "        text-align: right;\n",
       "    }\n",
       "</style>\n",
       "<table border=\"1\" class=\"dataframe\">\n",
       "  <thead>\n",
       "    <tr style=\"text-align: right;\">\n",
       "      <th>month_0</th>\n",
       "      <th>1</th>\n",
       "      <th>2</th>\n",
       "      <th>3</th>\n",
       "      <th>4</th>\n",
       "      <th>5</th>\n",
       "      <th>6</th>\n",
       "      <th>7</th>\n",
       "      <th>8</th>\n",
       "      <th>9</th>\n",
       "      <th>10</th>\n",
       "      <th>11</th>\n",
       "      <th>12</th>\n",
       "    </tr>\n",
       "    <tr>\n",
       "      <th>City</th>\n",
       "      <th></th>\n",
       "      <th></th>\n",
       "      <th></th>\n",
       "      <th></th>\n",
       "      <th></th>\n",
       "      <th></th>\n",
       "      <th></th>\n",
       "      <th></th>\n",
       "      <th></th>\n",
       "      <th></th>\n",
       "      <th></th>\n",
       "      <th></th>\n",
       "    </tr>\n",
       "  </thead>\n",
       "  <tbody>\n",
       "    <tr>\n",
       "      <th>BANGALORE</th>\n",
       "      <td>134952.19</td>\n",
       "      <td>140301.97</td>\n",
       "      <td>109447.00</td>\n",
       "      <td>168319.22</td>\n",
       "      <td>141847.00</td>\n",
       "      <td>147853.99</td>\n",
       "      <td>185684.81</td>\n",
       "      <td>99294.56</td>\n",
       "      <td>140603.66</td>\n",
       "      <td>136450.33</td>\n",
       "      <td>132976.65</td>\n",
       "      <td>60309.61</td>\n",
       "    </tr>\n",
       "    <tr>\n",
       "      <th>BOMBAY</th>\n",
       "      <td>138348.68</td>\n",
       "      <td>122199.67</td>\n",
       "      <td>130696.26</td>\n",
       "      <td>89227.86</td>\n",
       "      <td>149690.22</td>\n",
       "      <td>146574.37</td>\n",
       "      <td>59242.11</td>\n",
       "      <td>213348.95</td>\n",
       "      <td>213067.13</td>\n",
       "      <td>112667.62</td>\n",
       "      <td>151160.49</td>\n",
       "      <td>46680.24</td>\n",
       "    </tr>\n",
       "    <tr>\n",
       "      <th>CALCUTTA</th>\n",
       "      <td>156290.77</td>\n",
       "      <td>194060.61</td>\n",
       "      <td>145265.88</td>\n",
       "      <td>138300.32</td>\n",
       "      <td>169037.78</td>\n",
       "      <td>229304.58</td>\n",
       "      <td>248285.92</td>\n",
       "      <td>172039.34</td>\n",
       "      <td>151171.36</td>\n",
       "      <td>98178.92</td>\n",
       "      <td>122287.11</td>\n",
       "      <td>27500.75</td>\n",
       "    </tr>\n",
       "    <tr>\n",
       "      <th>CHENNAI</th>\n",
       "      <td>148898.71</td>\n",
       "      <td>182742.33</td>\n",
       "      <td>198977.73</td>\n",
       "      <td>148156.29</td>\n",
       "      <td>150326.30</td>\n",
       "      <td>207373.69</td>\n",
       "      <td>173456.44</td>\n",
       "      <td>152937.98</td>\n",
       "      <td>149151.88</td>\n",
       "      <td>156247.17</td>\n",
       "      <td>269555.86</td>\n",
       "      <td>223628.27</td>\n",
       "    </tr>\n",
       "    <tr>\n",
       "      <th>COCHIN</th>\n",
       "      <td>162699.63</td>\n",
       "      <td>130633.78</td>\n",
       "      <td>122720.58</td>\n",
       "      <td>138669.46</td>\n",
       "      <td>164527.14</td>\n",
       "      <td>249574.51</td>\n",
       "      <td>143433.03</td>\n",
       "      <td>257478.51</td>\n",
       "      <td>115186.91</td>\n",
       "      <td>144758.65</td>\n",
       "      <td>208533.31</td>\n",
       "      <td>129933.29</td>\n",
       "    </tr>\n",
       "    <tr>\n",
       "      <th>DELHI</th>\n",
       "      <td>100528.20</td>\n",
       "      <td>135824.01</td>\n",
       "      <td>141696.81</td>\n",
       "      <td>70658.25</td>\n",
       "      <td>114308.72</td>\n",
       "      <td>127819.02</td>\n",
       "      <td>50001.50</td>\n",
       "      <td>51800.72</td>\n",
       "      <td>50001.00</td>\n",
       "      <td>64615.46</td>\n",
       "      <td>97902.74</td>\n",
       "      <td>210585.50</td>\n",
       "    </tr>\n",
       "    <tr>\n",
       "      <th>PATNA</th>\n",
       "      <td>175578.77</td>\n",
       "      <td>156888.90</td>\n",
       "      <td>95811.11</td>\n",
       "      <td>259797.73</td>\n",
       "      <td>152613.34</td>\n",
       "      <td>124364.36</td>\n",
       "      <td>50000.00</td>\n",
       "      <td>104845.91</td>\n",
       "      <td>70329.95</td>\n",
       "      <td>164768.67</td>\n",
       "      <td>206838.94</td>\n",
       "      <td>50000.00</td>\n",
       "    </tr>\n",
       "    <tr>\n",
       "      <th>TRIVANDRUM</th>\n",
       "      <td>154347.37</td>\n",
       "      <td>150374.94</td>\n",
       "      <td>159487.77</td>\n",
       "      <td>85663.82</td>\n",
       "      <td>148080.76</td>\n",
       "      <td>133445.61</td>\n",
       "      <td>86828.17</td>\n",
       "      <td>151257.98</td>\n",
       "      <td>93031.85</td>\n",
       "      <td>142790.96</td>\n",
       "      <td>28677.48</td>\n",
       "      <td>213640.75</td>\n",
       "    </tr>\n",
       "  </tbody>\n",
       "</table>\n",
       "</div>"
      ],
      "text/plain": [
       "month_0            1          2          3          4          5          6   \\\n",
       "City                                                                           \n",
       "BANGALORE   134952.19  140301.97  109447.00  168319.22  141847.00  147853.99   \n",
       "BOMBAY      138348.68  122199.67  130696.26   89227.86  149690.22  146574.37   \n",
       "CALCUTTA    156290.77  194060.61  145265.88  138300.32  169037.78  229304.58   \n",
       "CHENNAI     148898.71  182742.33  198977.73  148156.29  150326.30  207373.69   \n",
       "COCHIN      162699.63  130633.78  122720.58  138669.46  164527.14  249574.51   \n",
       "DELHI       100528.20  135824.01  141696.81   70658.25  114308.72  127819.02   \n",
       "PATNA       175578.77  156888.90   95811.11  259797.73  152613.34  124364.36   \n",
       "TRIVANDRUM  154347.37  150374.94  159487.77   85663.82  148080.76  133445.61   \n",
       "\n",
       "month_0            7          8          9          10         11         12  \n",
       "City                                                                          \n",
       "BANGALORE   185684.81   99294.56  140603.66  136450.33  132976.65   60309.61  \n",
       "BOMBAY       59242.11  213348.95  213067.13  112667.62  151160.49   46680.24  \n",
       "CALCUTTA    248285.92  172039.34  151171.36   98178.92  122287.11   27500.75  \n",
       "CHENNAI     173456.44  152937.98  149151.88  156247.17  269555.86  223628.27  \n",
       "COCHIN      143433.03  257478.51  115186.91  144758.65  208533.31  129933.29  \n",
       "DELHI        50001.50   51800.72   50001.00   64615.46   97902.74  210585.50  \n",
       "PATNA        50000.00  104845.91   70329.95  164768.67  206838.94   50000.00  \n",
       "TRIVANDRUM   86828.17  151257.98   93031.85  142790.96   28677.48  213640.75  "
      ]
     },
     "execution_count": 222,
     "metadata": {},
     "output_type": "execute_result"
    }
   ],
   "source": [
    "monthly_citywise_sp = pd.pivot_table(data = cust_sp,index ='City', columns = ['month_0'], values = 'spend_amt').round(2)\n",
    "monthly_citywise_sp"
   ]
  },
  {
   "cell_type": "code",
   "execution_count": 223,
   "id": "6981dd7a",
   "metadata": {},
   "outputs": [
    {
     "data": {
      "image/png": "[encoded data removed]",
      "text/plain": [
       "<Figure size 432x288 with 1 Axes>"
      ]
     },
     "metadata": {
      "needs_background": "light"
     },
     "output_type": "display_data"
    }
   ],
   "source": [
    "monthly_citywise_sp.plot(kind='bar',stacked=True,legend= 'reverse')\n",
    "plt.show()"
   ]
  },
  {
   "cell_type": "markdown",
   "id": "7ea18e79",
   "metadata": {},
   "source": [
    "b. Comparison of yearly spend on air tickets"
   ]
  },
  {
   "cell_type": "code",
   "execution_count": 224,
   "id": "7725ae47",
   "metadata": {},
   "outputs": [
    {
     "data": {
      "text/html": [
       "<div>\n",
       "<style scoped>\n",
       "    .dataframe tbody tr th:only-of-type {\n",
       "        vertical-align: middle;\n",
       "    }\n",
       "\n",
       "    .dataframe tbody tr th {\n",
       "        vertical-align: top;\n",
       "    }\n",
       "\n",
       "    .dataframe thead th {\n",
       "        text-align: right;\n",
       "    }\n",
       "</style>\n",
       "<table border=\"1\" class=\"dataframe\">\n",
       "  <thead>\n",
       "    <tr style=\"text-align: right;\">\n",
       "      <th></th>\n",
       "      <th>spend_amt</th>\n",
       "    </tr>\n",
       "    <tr>\n",
       "      <th>year_0</th>\n",
       "      <th></th>\n",
       "    </tr>\n",
       "  </thead>\n",
       "  <tbody>\n",
       "    <tr>\n",
       "      <th>2004</th>\n",
       "      <td>4357225.35</td>\n",
       "    </tr>\n",
       "    <tr>\n",
       "      <th>2005</th>\n",
       "      <td>10550152.21</td>\n",
       "    </tr>\n",
       "    <tr>\n",
       "      <th>2006</th>\n",
       "      <td>5248469.56</td>\n",
       "    </tr>\n",
       "  </tbody>\n",
       "</table>\n",
       "</div>"
      ],
      "text/plain": [
       "          spend_amt\n",
       "year_0             \n",
       "2004     4357225.35\n",
       "2005    10550152.21\n",
       "2006     5248469.56"
      ]
     },
     "execution_count": 224,
     "metadata": {},
     "output_type": "execute_result"
    }
   ],
   "source": [
    "yearly_airtickets_sp = cust_sp.loc[cust_sp.Type == 'AIR TICKET' ].groupby('year_0')[['spend_amt']].sum()\n",
    "yearly_airtickets_sp"
   ]
  },
  {
   "cell_type": "code",
   "execution_count": 225,
   "id": "04efafd7",
   "metadata": {},
   "outputs": [
    {
     "data": {
      "image/png": "[encoded data removed]",
      "text/plain": [
       "<Figure size 432x288 with 1 Axes>"
      ]
     },
     "metadata": {
      "needs_background": "light"
     },
     "output_type": "display_data"
    }
   ],
   "source": [
    "yearly_airtickets_sp.plot(kind='bar')\n",
    "plt.show()"
   ]
  },
  {
   "cell_type": "markdown",
   "id": "5d000869",
   "metadata": {},
   "source": [
    "c. Comparison of monthly spend for each product (look for any seasonality that exists in terms of spend)"
   ]
  },
  {
   "cell_type": "code",
   "execution_count": 226,
   "id": "917d3b47",
   "metadata": {},
   "outputs": [
    {
     "data": {
      "text/html": [
       "<div>\n",
       "<style scoped>\n",
       "    .dataframe tbody tr th:only-of-type {\n",
       "        vertical-align: middle;\n",
       "    }\n",
       "\n",
       "    .dataframe tbody tr th {\n",
       "        vertical-align: top;\n",
       "    }\n",
       "\n",
       "    .dataframe thead th {\n",
       "        text-align: right;\n",
       "    }\n",
       "</style>\n",
       "<table border=\"1\" class=\"dataframe\">\n",
       "  <thead>\n",
       "    <tr style=\"text-align: right;\">\n",
       "      <th>month_0</th>\n",
       "      <th>1</th>\n",
       "      <th>2</th>\n",
       "      <th>3</th>\n",
       "      <th>4</th>\n",
       "      <th>5</th>\n",
       "      <th>6</th>\n",
       "      <th>7</th>\n",
       "      <th>8</th>\n",
       "      <th>9</th>\n",
       "      <th>10</th>\n",
       "      <th>11</th>\n",
       "      <th>12</th>\n",
       "    </tr>\n",
       "    <tr>\n",
       "      <th>Product</th>\n",
       "      <th></th>\n",
       "      <th></th>\n",
       "      <th></th>\n",
       "      <th></th>\n",
       "      <th></th>\n",
       "      <th></th>\n",
       "      <th></th>\n",
       "      <th></th>\n",
       "      <th></th>\n",
       "      <th></th>\n",
       "      <th></th>\n",
       "      <th></th>\n",
       "    </tr>\n",
       "  </thead>\n",
       "  <tbody>\n",
       "    <tr>\n",
       "      <th>Gold</th>\n",
       "      <td>32413831.83</td>\n",
       "      <td>24779179.55</td>\n",
       "      <td>19256972.48</td>\n",
       "      <td>13170572.59</td>\n",
       "      <td>21548169.76</td>\n",
       "      <td>6538862.64</td>\n",
       "      <td>5167416.37</td>\n",
       "      <td>4954030.42</td>\n",
       "      <td>3816887.62</td>\n",
       "      <td>3018223.38</td>\n",
       "      <td>9203267.46</td>\n",
       "      <td>2332940.96</td>\n",
       "    </tr>\n",
       "    <tr>\n",
       "      <th>Platimum</th>\n",
       "      <td>14951578.51</td>\n",
       "      <td>9134054.58</td>\n",
       "      <td>7288837.68</td>\n",
       "      <td>5182493.86</td>\n",
       "      <td>8151926.49</td>\n",
       "      <td>2965712.71</td>\n",
       "      <td>1288156.26</td>\n",
       "      <td>1714762.80</td>\n",
       "      <td>1667840.84</td>\n",
       "      <td>550275.04</td>\n",
       "      <td>2741618.42</td>\n",
       "      <td>750156.19</td>\n",
       "    </tr>\n",
       "    <tr>\n",
       "      <th>Silver</th>\n",
       "      <td>4206383.62</td>\n",
       "      <td>2087018.37</td>\n",
       "      <td>3909405.83</td>\n",
       "      <td>1902322.65</td>\n",
       "      <td>2140940.01</td>\n",
       "      <td>689537.61</td>\n",
       "      <td>530153.72</td>\n",
       "      <td>293109.82</td>\n",
       "      <td>442803.13</td>\n",
       "      <td>100001.50</td>\n",
       "      <td>691102.63</td>\n",
       "      <td>200537.90</td>\n",
       "    </tr>\n",
       "  </tbody>\n",
       "</table>\n",
       "</div>"
      ],
      "text/plain": [
       "month_0            1            2            3            4            5   \\\n",
       "Product                                                                     \n",
       "Gold      32413831.83  24779179.55  19256972.48  13170572.59  21548169.76   \n",
       "Platimum  14951578.51   9134054.58   7288837.68   5182493.86   8151926.49   \n",
       "Silver     4206383.62   2087018.37   3909405.83   1902322.65   2140940.01   \n",
       "\n",
       "month_0           6           7           8           9           10  \\\n",
       "Product                                                                \n",
       "Gold      6538862.64  5167416.37  4954030.42  3816887.62  3018223.38   \n",
       "Platimum  2965712.71  1288156.26  1714762.80  1667840.84   550275.04   \n",
       "Silver     689537.61   530153.72   293109.82   442803.13   100001.50   \n",
       "\n",
       "month_0           11          12  \n",
       "Product                           \n",
       "Gold      9203267.46  2332940.96  \n",
       "Platimum  2741618.42   750156.19  \n",
       "Silver     691102.63   200537.90  "
      ]
     },
     "execution_count": 226,
     "metadata": {},
     "output_type": "execute_result"
    }
   ],
   "source": [
    "monthly_prd_sp = pd.pivot_table(data = cust_sp, index = 'Product', columns='month_0', \n",
    "               values='spend_amt', aggfunc='sum')\n",
    "monthly_prd_sp"
   ]
  },
  {
   "cell_type": "code",
   "execution_count": 227,
   "id": "e88a850d",
   "metadata": {},
   "outputs": [
    {
     "data": {
      "image/png": "[encoded data removed]",
      "text/plain": [
       "<Figure size 432x288 with 1 Axes>"
      ]
     },
     "metadata": {
      "needs_background": "light"
     },
     "output_type": "display_data"
    }
   ],
   "source": [
    "monthly_prd_sp.plot(kind='bar')\n",
    "plt.show()"
   ]
  },
  {
   "cell_type": "code",
   "execution_count": 228,
   "id": "97d02734",
   "metadata": {},
   "outputs": [
    {
     "data": {
      "text/plain": [
       "<AxesSubplot:xlabel='Product'>"
      ]
     },
     "execution_count": 228,
     "metadata": {},
     "output_type": "execute_result"
    },
    {
     "data": {
      "image/png": "[encoded data removed]",
      "text/plain": [
       "<Figure size 432x288 with 1 Axes>"
      ]
     },
     "metadata": {
      "needs_background": "light"
     },
     "output_type": "display_data"
    }
   ],
   "source": [
    "monthly_prd_sp1= pd.pivot_table(data = cust_sp, index = 'Product', columns='month_0',values='spend_amt', aggfunc='sum').plot(kind='bar',stacked=True)\n",
    "monthly_prd_sp1"
   ]
  },
  {
   "cell_type": "markdown",
   "id": "e865a0e0",
   "metadata": {},
   "source": [
    "5. Write user defined PYTHON function to perform the following analysis:\n",
    "You need to find top 10 customers for each city in terms of their repayment amount by \n",
    "different products and by different time periods i.e. year or month. The user should be able \n",
    "to specify the product (Gold/Silver/Platinum) and time period (yearly or monthly) and the \n",
    "function should automatically take these inputs while identifying the top 10 customers"
   ]
  },
  {
   "cell_type": "code",
   "execution_count": 229,
   "id": "a3f491ed",
   "metadata": {},
   "outputs": [],
   "source": [
    "cust_rp['monthly'] = cust_rp['repay_date'].apply(lambda x:pd.Timestamp.strftime(x,format=\"%B\"))\n",
    "cust_rp['yearly'] = cust_rp['repay_date'].apply(lambda x:pd.Timestamp.strftime(x,format=\"%Y\"))"
   ]
  },
  {
   "cell_type": "code",
   "execution_count": 230,
   "id": "3a6671f4",
   "metadata": {},
   "outputs": [],
   "source": [
    "def top10_cust(product_cat,time_period):\n",
    "    return cust_rp.loc[(cust_rp.Product == product_cat)].groupby(['Customer','City','Product',time_period]).repay_amt.sum().reset_index().sort_values('repay_amt',ascending=False).head(10)"
   ]
  },
  {
   "cell_type": "code",
   "execution_count": 231,
   "id": "64d376f7",
   "metadata": {},
   "outputs": [
    {
     "name": "stdout",
     "output_type": "stream",
     "text": [
      "Enter Product Category (Gold/Silver/Platinum): Silver\n",
      "Enter Time Period (yearly/monthly): yearly\n"
     ]
    },
    {
     "data": {
      "text/html": [
       "<div>\n",
       "<style scoped>\n",
       "    .dataframe tbody tr th:only-of-type {\n",
       "        vertical-align: middle;\n",
       "    }\n",
       "\n",
       "    .dataframe tbody tr th {\n",
       "        vertical-align: top;\n",
       "    }\n",
       "\n",
       "    .dataframe thead th {\n",
       "        text-align: right;\n",
       "    }\n",
       "</style>\n",
       "<table border=\"1\" class=\"dataframe\">\n",
       "  <thead>\n",
       "    <tr style=\"text-align: right;\">\n",
       "      <th></th>\n",
       "      <th>Customer</th>\n",
       "      <th>City</th>\n",
       "      <th>Product</th>\n",
       "      <th>yearly</th>\n",
       "      <th>repay_amt</th>\n",
       "    </tr>\n",
       "  </thead>\n",
       "  <tbody>\n",
       "    <tr>\n",
       "      <th>14</th>\n",
       "      <td>A24</td>\n",
       "      <td>DELHI</td>\n",
       "      <td>Silver</td>\n",
       "      <td>2005</td>\n",
       "      <td>1184870.98</td>\n",
       "    </tr>\n",
       "    <tr>\n",
       "      <th>8</th>\n",
       "      <td>A22</td>\n",
       "      <td>BOMBAY</td>\n",
       "      <td>Silver</td>\n",
       "      <td>2005</td>\n",
       "      <td>1141542.81</td>\n",
       "    </tr>\n",
       "    <tr>\n",
       "      <th>20</th>\n",
       "      <td>A46</td>\n",
       "      <td>PATNA</td>\n",
       "      <td>Silver</td>\n",
       "      <td>2005</td>\n",
       "      <td>1116730.89</td>\n",
       "    </tr>\n",
       "    <tr>\n",
       "      <th>18</th>\n",
       "      <td>A25</td>\n",
       "      <td>COCHIN</td>\n",
       "      <td>Silver</td>\n",
       "      <td>2006</td>\n",
       "      <td>1000030.00</td>\n",
       "    </tr>\n",
       "    <tr>\n",
       "      <th>11</th>\n",
       "      <td>A23</td>\n",
       "      <td>BANGALORE</td>\n",
       "      <td>Silver</td>\n",
       "      <td>2005</td>\n",
       "      <td>1000010.00</td>\n",
       "    </tr>\n",
       "    <tr>\n",
       "      <th>22</th>\n",
       "      <td>A57</td>\n",
       "      <td>TRIVANDRUM</td>\n",
       "      <td>Silver</td>\n",
       "      <td>2004</td>\n",
       "      <td>1000010.00</td>\n",
       "    </tr>\n",
       "    <tr>\n",
       "      <th>7</th>\n",
       "      <td>A22</td>\n",
       "      <td>BOMBAY</td>\n",
       "      <td>Silver</td>\n",
       "      <td>2004</td>\n",
       "      <td>953419.47</td>\n",
       "    </tr>\n",
       "    <tr>\n",
       "      <th>9</th>\n",
       "      <td>A22</td>\n",
       "      <td>BOMBAY</td>\n",
       "      <td>Silver</td>\n",
       "      <td>2006</td>\n",
       "      <td>945271.83</td>\n",
       "    </tr>\n",
       "    <tr>\n",
       "      <th>12</th>\n",
       "      <td>A23</td>\n",
       "      <td>BANGALORE</td>\n",
       "      <td>Silver</td>\n",
       "      <td>2006</td>\n",
       "      <td>872925.32</td>\n",
       "    </tr>\n",
       "    <tr>\n",
       "      <th>21</th>\n",
       "      <td>A46</td>\n",
       "      <td>PATNA</td>\n",
       "      <td>Silver</td>\n",
       "      <td>2006</td>\n",
       "      <td>839228.07</td>\n",
       "    </tr>\n",
       "  </tbody>\n",
       "</table>\n",
       "</div>"
      ],
      "text/plain": [
       "   Customer        City Product yearly   repay_amt\n",
       "14      A24       DELHI  Silver   2005  1184870.98\n",
       "8       A22      BOMBAY  Silver   2005  1141542.81\n",
       "20      A46       PATNA  Silver   2005  1116730.89\n",
       "18      A25      COCHIN  Silver   2006  1000030.00\n",
       "11      A23   BANGALORE  Silver   2005  1000010.00\n",
       "22      A57  TRIVANDRUM  Silver   2004  1000010.00\n",
       "7       A22      BOMBAY  Silver   2004   953419.47\n",
       "9       A22      BOMBAY  Silver   2006   945271.83\n",
       "12      A23   BANGALORE  Silver   2006   872925.32\n",
       "21      A46       PATNA  Silver   2006   839228.07"
      ]
     },
     "execution_count": 231,
     "metadata": {},
     "output_type": "execute_result"
    }
   ],
   "source": [
    "product_cat=str(input('Enter Product Category (Gold/Silver/Platinum): '))\n",
    "time_period=str(input('Enter Time Period (yearly/monthly): '))\n",
    "top10_Customers=top10_cust(product_cat,time_period)\n",
    "top10_Customers"
   ]
  },
  {
   "cell_type": "code",
   "execution_count": null,
   "id": "ac29d6d0",
   "metadata": {},
   "outputs": [],
   "source": []
  }
 ],
 "metadata": {
  "kernelspec": {
   "display_name": "Python 3 (ipykernel)",
   "language": "python",
   "name": "python3"
  },
  "language_info": {
   "codemirror_mode": {
    "name": "ipython",
    "version": 3
   },
   "file_extension": ".py",
   "mimetype": "text/x-python",
   "name": "python",
   "nbconvert_exporter": "python",
   "pygments_lexer": "ipython3",
   "version": "3.9.7"
  }
 },
 "nbformat": 4,
 "nbformat_minor": 5
}
